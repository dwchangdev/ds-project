{
  "nbformat": 4,
  "nbformat_minor": 0,
  "metadata": {
    "kernelspec": {
      "display_name": "Python 3",
      "language": "python",
      "name": "python3"
    },
    "language_info": {
      "codemirror_mode": {
        "name": "ipython",
        "version": 3
      },
      "file_extension": ".py",
      "mimetype": "text/x-python",
      "name": "python",
      "nbconvert_exporter": "python",
      "pygments_lexer": "ipython3",
      "version": "3.6.6"
    },
    "colab": {
      "name": "AI_02_장동욱_Section2.ipynb",
      "provenance": [],
      "include_colab_link": true
    }
  },
  "cells": [
    {
      "cell_type": "markdown",
      "metadata": {
        "id": "view-in-github",
        "colab_type": "text"
      },
      "source": [
        "<a href=\"https://colab.research.google.com/github/dwchangdev/ds-project/blob/main/AI_02_%EC%9E%A5%EB%8F%99%EC%9A%B1_Section2.ipynb\" target=\"_parent\"><img src=\"https://colab.research.google.com/assets/colab-badge.svg\" alt=\"Open In Colab\"/></a>"
      ]
    },
    {
      "cell_type": "markdown",
      "metadata": {
        "_cell_guid": "b1076dfc-b9ad-4769-8c92-a6c4dae69d19",
        "_uuid": "8f2839f25d086af736a60e9eeb907d3b93b6e0e5",
        "id": "zIWPpxTEVFCF"
      },
      "source": [
        "**1&nbsp;&nbsp;[Introduction](#1)**  \n",
        "&nbsp;&nbsp;&nbsp;&nbsp;1.1&nbsp;&nbsp;[Background](#1.1)  \n",
        "&nbsp;&nbsp;&nbsp;&nbsp;1.2&nbsp;&nbsp;[Problem definition](#1.2)  \n",
        "&nbsp;&nbsp;&nbsp;&nbsp;1.3&nbsp;&nbsp;[Data Preparation](#1.3)  \n",
        "**2&nbsp;&nbsp;[Environment](#2)**  \n",
        "&nbsp;&nbsp;&nbsp;&nbsp;2.1&nbsp;&nbsp;[Libraries](#2.1)  \n",
        "&nbsp;&nbsp;&nbsp;&nbsp;2.2&nbsp;&nbsp;[Dataset](#2.2)    \n",
        "&nbsp;&nbsp;&nbsp;&nbsp;2.3&nbsp;&nbsp;[Data Overview](#2.3)  \n",
        "&nbsp;&nbsp;&nbsp;&nbsp;2.4&nbsp;&nbsp;[Functions](#2.4)  \n",
        "**3&nbsp;&nbsp;[Wrangling](#3)**  \n",
        "&nbsp;&nbsp;&nbsp;&nbsp;3.1&nbsp;&nbsp;[Relevant features](#3.1)  \n",
        "&nbsp;&nbsp;&nbsp;&nbsp;3.2&nbsp;&nbsp;[Feature datatypes](#3.2)  \n",
        "&nbsp;&nbsp;&nbsp;&nbsp;3.3&nbsp;&nbsp;[Data export](#3.3)  \n",
        "**4&nbsp;&nbsp;[Exploration - Exploratory Data Analysis(EDA)](#4)**  \n",
        "&nbsp;&nbsp;&nbsp;&nbsp;4.1&nbsp;&nbsp;[Data Information](#4.1)  \n",
        "&nbsp;&nbsp;&nbsp;&nbsp;4.2&nbsp;&nbsp;[Univariate analysis](#4.2)  \n",
        "&nbsp;&nbsp;&nbsp;&nbsp;4.3&nbsp;&nbsp;[Bivariate analysis](#4.3)  \n",
        "**5&nbsp;&nbsp;[Engineering](#5)**  \n",
        "&nbsp;&nbsp;&nbsp;&nbsp;5.1&nbsp;&nbsp;[Sample analysis](#5.1)  \n",
        "&nbsp;&nbsp;&nbsp;&nbsp;5.2&nbsp;&nbsp;[Feature representation](#5.2)  \n",
        "&nbsp;&nbsp;&nbsp;&nbsp;5.3&nbsp;&nbsp;[Feature interactions](#5.3)  \n",
        "&nbsp;&nbsp;&nbsp;&nbsp;5.4&nbsp;&nbsp;[Feature transformations](#5.4)  \n",
        "&nbsp;&nbsp;&nbsp;&nbsp;5.5&nbsp;&nbsp;[Feature selection](#5.5)  \n",
        "&nbsp;&nbsp;&nbsp;&nbsp;5.6&nbsp;&nbsp;[Data export](#5.6)  \n",
        "**6&nbsp;&nbsp;[Modelling](#6)**  \n",
        "&nbsp;&nbsp;&nbsp;&nbsp;6.1&nbsp;&nbsp;[Baseline models](#6.1)  \n",
        "&nbsp;&nbsp;&nbsp;&nbsp;6.2&nbsp;&nbsp;[Ensemble models](#6.2)  \n",
        "**7&nbsp;&nbsp;[Evaluation](#7)**  \n",
        "&nbsp;&nbsp;&nbsp;&nbsp;7.1&nbsp;&nbsp;[Classifier performance](#7.1)  \n",
        "&nbsp;&nbsp;&nbsp;&nbsp;7.2&nbsp;&nbsp;[Feature importance](#7.2)  \n",
        "&nbsp;&nbsp;&nbsp;&nbsp;7.3&nbsp;&nbsp;[Learning rate](#7.3)  \n",
        "**8&nbsp;&nbsp;[Conclusion](#8)**"
      ]
    },
    {
      "cell_type": "markdown",
      "metadata": {
        "_cell_guid": "79c7e3d0-c299-4dcb-8224-4455121ee9b0",
        "_uuid": "d629ff2d2480ee46fbb7e2d37f6b5fab8052498a",
        "collapsed": true,
        "id": "j_DalMa6VFCK"
      },
      "source": [
        "## 1 Introduction<a id=\"1\"></a>"
      ]
    },
    {
      "cell_type": "markdown",
      "metadata": {
        "id": "FG-9kwNVVFCK"
      },
      "source": [
        "### 1.1 Background<a id=\"1.1\"></a>"
      ]
    },
    {
      "cell_type": "markdown",
      "metadata": {
        "id": "IGu1wSI5y-UX"
      },
      "source": [
        "- 현대 사회 속 데이트 상대 찾기의 어려움\n",
        "- 소셜 미디어와 위치 기반 데이팅 및 매칭 관련 서비스 수요 급증\n",
        "- 인간 행동에 대한 이해 선행의 필요성"
      ]
    },
    {
      "cell_type": "markdown",
      "metadata": {
        "id": "9jz6rLBHBwCg"
      },
      "source": [
        "### 1.2 Problem definition<a id=\"1.2\"></a>"
      ]
    },
    {
      "cell_type": "markdown",
      "metadata": {
        "id": "HaJFOkWGVFCK"
      },
      "source": [
        "- **dating preferences**, **attribute ratings** 그리고 **background information**을 토대로 파트너가 상대방과 매칭이 될지 예측\n",
        "- 상대방이 데이트를 수락할지 거절할지 예측하는데 있어서 binary classification으로 진행"
      ]
    },
    {
      "cell_type": "markdown",
      "metadata": {
        "id": "fTwpM36MVFCK"
      },
      "source": [
        "### 1.3 Dataset<a id=\"1.3\"></a>"
      ]
    },
    {
      "cell_type": "markdown",
      "metadata": {
        "id": "Eocf9IVkVFCL"
      },
      "source": [
        "- A study conducted by Columbia University explored gender differences in dating preferences.\n",
        "- Participants attended a dating event where they had a 4-minute date with every other participant of the opposite sex who attended the same event.\n",
        "- The participants decided to accept or reject their partner. If both the participant and partner matched, they received each other's contact information.\n",
        "- Participants rated their partners on six personal attributes: attractiveness, sincerity, intelligence, fun, ambition and shared interests.\n",
        "- Before and after the event, participants rated their preferences in the six attributes and gave themselves ratings.\n",
        "- Other information was collected about the participants' background and preferences."
      ]
    },
    {
      "cell_type": "markdown",
      "metadata": {
        "id": "vwQ2PInbVFCL"
      },
      "source": [
        "## 2 Environment<a id=\"2\"></a>"
      ]
    },
    {
      "cell_type": "markdown",
      "metadata": {
        "id": "LUe_gHbkVFCL"
      },
      "source": [
        "### 2.1 Libraries<a id=\"2.1\"></a>"
      ]
    },
    {
      "cell_type": "markdown",
      "metadata": {
        "id": "LWNfNn4eVFCL"
      },
      "source": [
        "Load libraries into notebook"
      ]
    },
    {
      "cell_type": "code",
      "metadata": {
        "id": "4A-UnT6uVFCM"
      },
      "source": [
        "import numpy as np              # arrays\n",
        "import pandas as pd             # dataframes\n",
        "import matplotlib.pyplot as plt # graphs\n",
        "import seaborn as sns           # visualisations\n",
        "from scipy import stats         # statistic"
      ],
      "execution_count": 1,
      "outputs": []
    },
    {
      "cell_type": "code",
      "metadata": {
        "id": "KYvxuaaSVFCM"
      },
      "source": [
        "from sklearn.experimental import enable_iterative_imputer # enable experimental imputer\n",
        "from sklearn.impute import IterativeImputer               # sample imputation\n",
        "from sklearn import preprocessing                         # encoders, transformations\n",
        "from sklearn.model_selection import cross_validate        # cross-validation, model evaluation\n",
        "from sklearn.model_selection import GridSearchCV          # hyper-parameter tuning\n",
        "from sklearn.linear_model import LogisticRegression       # logistic regression model\n",
        "from sklearn.svm import SVC                               # support vector machine mode\n",
        "from sklearn.neighbors import KNeighborsClassifier        # k-nearest neighbours mode\n",
        "from sklearn.ensemble import GradientBoostingClassifier   # gradient boosting mode\n",
        "from sklearn.ensemble import VotingClassifier             # voting ensemble mode\n",
        "from sklearn.ensemble import StackingClassifier           # stacking ensemble mode"
      ],
      "execution_count": 2,
      "outputs": []
    },
    {
      "cell_type": "code",
      "metadata": {
        "id": "gv0uKofbVFCM"
      },
      "source": [
        "%matplotlib inline"
      ],
      "execution_count": 3,
      "outputs": []
    },
    {
      "cell_type": "markdown",
      "metadata": {
        "id": "6xm9ALwiVFCM"
      },
      "source": [
        "### 2.2 Dataset<a id=\"2.2\"></a>"
      ]
    },
    {
      "cell_type": "markdown",
      "metadata": {
        "id": "uPl2eK0qVFCN"
      },
      "source": [
        "Import raw dataset into a dataframe"
      ]
    },
    {
      "cell_type": "code",
      "metadata": {
        "id": "GI9UWqm6VFCN"
      },
      "source": [
        "data_raw = pd.read_csv(\n",
        "    filepath_or_buffer='/content/Speed Dating Data.csv',\n",
        "    engine='python'\n",
        ")"
      ],
      "execution_count": 4,
      "outputs": []
    },
    {
      "cell_type": "markdown",
      "metadata": {
        "id": "RXhYa-kYivbX"
      },
      "source": [
        "Get number of rows and columns of new dataframe"
      ]
    },
    {
      "cell_type": "code",
      "metadata": {
        "colab": {
          "base_uri": "https://localhost:8080/"
        },
        "id": "dTr874ITivbX",
        "outputId": "114d41ec-72ba-45d9-8fd3-62d97d3c8e0f"
      },
      "source": [
        "data_raw.shape"
      ],
      "execution_count": 5,
      "outputs": [
        {
          "output_type": "execute_result",
          "data": {
            "text/plain": [
              "(8378, 195)"
            ]
          },
          "metadata": {
            "tags": []
          },
          "execution_count": 5
        }
      ]
    },
    {
      "cell_type": "markdown",
      "metadata": {
        "id": "M61VDubHaxpb"
      },
      "source": [
        "### 2.3 Data Overview<a id=\"2.2\"></a>"
      ]
    },
    {
      "cell_type": "markdown",
      "metadata": {
        "id": "Lg74l3guGSdz"
      },
      "source": [
        "Check age distribution, proportion of acceptance and reject by sex and race and probability of match"
      ]
    },
    {
      "cell_type": "code",
      "metadata": {
        "colab": {
          "base_uri": "https://localhost:8080/",
          "height": 297
        },
        "id": "Bjlj-g8zGFMB",
        "outputId": "f66e11bd-2b3e-4af1-e714-200e5ec95fd3"
      },
      "source": [
        "age = data_raw[np.isfinite(data_raw['age'])]['age']\n",
        "plt.hist(age.values)\n",
        "plt.xlabel('Age')\n",
        "plt.ylabel('Frequency')"
      ],
      "execution_count": 6,
      "outputs": [
        {
          "output_type": "execute_result",
          "data": {
            "text/plain": [
              "Text(0, 0.5, 'Frequency')"
            ]
          },
          "metadata": {
            "tags": []
          },
          "execution_count": 6
        },
        {
          "output_type": "display_data",
          "data": {
            "image/png": "[encoded data removed]",
            "text/plain": [
              "<Figure size 432x288 with 1 Axes>"
            ]
          },
          "metadata": {
            "tags": [],
            "needs_background": "light"
          }
        }
      ]
    },
    {
      "cell_type": "code",
      "metadata": {
        "colab": {
          "base_uri": "https://localhost:8080/",
          "height": 513
        },
        "id": "-p3mRk_PPvrl",
        "outputId": "3eba6f0a-70b4-434f-d4d4-0c5fd895cec7"
      },
      "source": [
        "# race_replacement={1:\"Black/African American\",\n",
        "#                  2: \"European/Caucasion-American\",\n",
        "#                  3: \"Latino/Hispanic American\",\n",
        "#                  4: \"Asian/Pacific Islander/Asian-American\",\n",
        "#                  5: \"Native American\",\n",
        "#                  6: \"Other\"}\n",
        "# gender_replacement={0:\"Female\",\n",
        "#                     1:\"Male\"}\n",
        "\n",
        "# temp_data = data_raw[\"race\"].replace(race_replacement, inplace=True)\n",
        "# temp_data = data_raw[\"gender\"].replace(gender_replacement, inplace=True)\n",
        "# temp_data = data_raw\n",
        "fig, (ax1, ax2)=plt.subplots(ncols=2, figsize=[12,8])\n",
        "a_d_s = sns.set_palette(\"pastel\")\n",
        "a_d_s = sns.countplot(data=data_raw, hue =\"gender\", x=\"dec\", ax=ax1).set_title(\"Female and Male saying No and Yes\")\n",
        "a_d_r = sns.set_palette(\"dark\")\n",
        "a_d_r = sns.countplot(data=data_raw, hue =\"race\", x=\"dec\", ax=ax2).set_title(\"People with different ethnicity saying yes and no to their matches\")"
      ],
      "execution_count": 7,
      "outputs": [
        {
          "output_type": "display_data",
          "data": {
            "image/png": "[encoded data removed]",
            "text/plain": [
              "<Figure size 864x576 with 2 Axes>"
            ]
          },
          "metadata": {
            "tags": [],
            "needs_background": "light"
          }
        }
      ]
    },
    {
      "cell_type": "markdown",
      "metadata": {
        "id": "kIdsF6gfKOlu"
      },
      "source": [
        "매칭 확률 확인"
      ]
    },
    {
      "cell_type": "code",
      "metadata": {
        "colab": {
          "base_uri": "https://localhost:8080/",
          "height": 141
        },
        "id": "cCNafzyxKHls",
        "outputId": "a459a665-9a63-4cd9-ed24-fa398addb1a0"
      },
      "source": [
        "pd.crosstab(index=data_raw['match'],columns=\"count\")"
      ],
      "execution_count": 8,
      "outputs": [
        {
          "output_type": "execute_result",
          "data": {
            "text/html": [
              "<div>\n",
              "<style scoped>\n",
              "    .dataframe tbody tr th:only-of-type {\n",
              "        vertical-align: middle;\n",
              "    }\n",
              "\n",
              "    .dataframe tbody tr th {\n",
              "        vertical-align: top;\n",
              "    }\n",
              "\n",
              "    .dataframe thead th {\n",
              "        text-align: right;\n",
              "    }\n",
              "</style>\n",
              "<table border=\"1\" class=\"dataframe\">\n",
              "  <thead>\n",
              "    <tr style=\"text-align: right;\">\n",
              "      <th>col_0</th>\n",
              "      <th>count</th>\n",
              "    </tr>\n",
              "    <tr>\n",
              "      <th>match</th>\n",
              "      <th></th>\n",
              "    </tr>\n",
              "  </thead>\n",
              "  <tbody>\n",
              "    <tr>\n",
              "      <th>0</th>\n",
              "      <td>6998</td>\n",
              "    </tr>\n",
              "    <tr>\n",
              "      <th>1</th>\n",
              "      <td>1380</td>\n",
              "    </tr>\n",
              "  </tbody>\n",
              "</table>\n",
              "</div>"
            ],
            "text/plain": [
              "col_0  count\n",
              "match       \n",
              "0       6998\n",
              "1       1380"
            ]
          },
          "metadata": {
            "tags": []
          },
          "execution_count": 8
        }
      ]
    },
    {
      "cell_type": "markdown",
      "metadata": {
        "id": "lukB-8y3VFCO"
      },
      "source": [
        "### 2.3 Functions<a id=\"2.3\"></a>"
      ]
    },
    {
      "cell_type": "markdown",
      "metadata": {
        "id": "0erCnQPyVFCO"
      },
      "source": [
        "Define a function to plot distribution functions"
      ]
    },
    {
      "cell_type": "code",
      "metadata": {
        "id": "6xiufV44VFCO"
      },
      "source": [
        "def plot_distribution(data, bins, title, xlabel, ylabel):\n",
        "    ax = sns.distplot(\n",
        "        data,\n",
        "        bins=bins,\n",
        "        hist_kws={\n",
        "            \"linewidth\": 1,\n",
        "            'edgecolor': 'black',\n",
        "            'alpha': 1.0\n",
        "            },\n",
        "        kde=False\n",
        "    )\n",
        "    ax.set_title(title)\n",
        "    ax.set_xlabel(xlabel)\n",
        "    ax.set_ylabel(ylabel);"
      ],
      "execution_count": 9,
      "outputs": []
    },
    {
      "cell_type": "markdown",
      "metadata": {
        "id": "Mm7RltiIVFCP"
      },
      "source": [
        "Define a function to plot relationship between two features"
      ]
    },
    {
      "cell_type": "code",
      "metadata": {
        "id": "eFe05_xvVFCP"
      },
      "source": [
        "def plot_relationship(x, y, title, xlabel, ylabel):\n",
        "    ax = sns.barplot(\n",
        "        x=x,\n",
        "        y=y,\n",
        "        orient='h'\n",
        "    )\n",
        "    ax.set_title(title)\n",
        "    ax.set_xlabel(xlabel)\n",
        "    ax.set_ylabel(ylabel);"
      ],
      "execution_count": 10,
      "outputs": []
    },
    {
      "cell_type": "markdown",
      "metadata": {
        "id": "RfrxhJRiVFCP"
      },
      "source": [
        "Define a function to print a feature's mean, standard deviation, skewness and kurtosis"
      ]
    },
    {
      "cell_type": "code",
      "metadata": {
        "id": "8ZpZ5yPzVFCP"
      },
      "source": [
        "def print_moments(title, feature):\n",
        "    print(title)\n",
        "    print('Mean: '+'{:>18.2f}'.format(feature.mean()))\n",
        "    print('Standard deviation: '+'{:.2f}'.format(feature.std()))\n",
        "    print('Skewness: '+'{:>14.2f}'.format(feature.skew()))\n",
        "    print('Kurtosis: '+'{:>14.2f}'.format(feature.kurtosis()))"
      ],
      "execution_count": 12,
      "outputs": []
    },
    {
      "cell_type": "markdown",
      "metadata": {
        "id": "0kxF-P5UVFCP"
      },
      "source": [
        "## 3 Wrangling<a id=\"3\"></a>"
      ]
    },
    {
      "cell_type": "markdown",
      "metadata": {
        "id": "UqRXL-yLVFCP"
      },
      "source": [
        "### 3.1 Relevant features<a id=\"3.1\"></a>"
      ]
    },
    {
      "cell_type": "markdown",
      "metadata": {
        "id": "8kssRrpQVFCP"
      },
      "source": [
        "Identify relevant features and associated datatypes"
      ]
    },
    {
      "cell_type": "code",
      "metadata": {
        "id": "BoGqHO_yy8XT"
      },
      "source": [
        "relevant_features = [\n",
        "    ['iid', 'int16'],\n",
        "    ['gender', 'bool'],\n",
        "    ['wave', 'int16'],\n",
        "    ['position', 'int16'],\n",
        "    ['order', 'int16'],\n",
        "    ['pid', 'int16'],\n",
        "    ['age_o', 'int16'],\n",
        "    ['race_o', 'category'],\n",
        "    ['pf_o_att', 'int16'],\n",
        "    ['pf_o_sin', 'int16'],\n",
        "    ['pf_o_int', 'int16'],\n",
        "    ['pf_o_fun', 'int16'],\n",
        "    ['pf_o_amb', 'int16'],\n",
        "    ['pf_o_sha', 'int16'],\n",
        "    ['dec_o', 'bool'],\n",
        "    ['attr_o', 'int16'],\n",
        "    ['sinc_o', 'int16'],\n",
        "    ['intel_o', 'int16'],\n",
        "    ['fun_o', 'int16'],\n",
        "    ['amb_o', 'int16'],\n",
        "    ['shar_o', 'int16'],\n",
        "    ['like_o', 'int16'],\n",
        "    ['prob_o', 'int16'],\n",
        "    ['met_o', 'bool'],\n",
        "    ['age', 'int16'],\n",
        "    ['field_cd', 'category'],\n",
        "    ['race', 'category'],\n",
        "    ['imprace', 'int16'],\n",
        "    ['imprelig', 'int16'],\n",
        "    ['goal', 'category'],\n",
        "    ['date', 'int16'],\n",
        "    ['go_out', 'int16'],\n",
        "    ['career_c', 'category'],\n",
        "    ['sports', 'int16'],\n",
        "    ['tvsports', 'int16'],\n",
        "    ['exercise', 'int16'],\n",
        "    ['dining', 'int16'],\n",
        "    ['museums', 'int16'],\n",
        "    ['art', 'int16'],\n",
        "    ['hiking', 'int16'],\n",
        "    ['gaming', 'int16'],\n",
        "    ['clubbing', 'int16'],\n",
        "    ['reading', 'int16'],\n",
        "    ['tv', 'int16'],\n",
        "    ['theater', 'int16'],\n",
        "    ['movies', 'int16'],\n",
        "    ['concerts', 'int16'],\n",
        "    ['music', 'int16'],\n",
        "    ['shopping', 'int16'],\n",
        "    ['yoga', 'int16'],\n",
        "    ['exphappy', 'int16'],\n",
        "    ['expnum', 'int16'],\n",
        "    ['attr1_1', 'int16'],\n",
        "    ['sinc1_1', 'int16'],\n",
        "    ['intel1_1', 'int16'],\n",
        "    ['fun1_1', 'int16'],\n",
        "    ['amb1_1', 'int16'],\n",
        "    ['shar1_1', 'int16'],\n",
        "    ['attr3_1', 'int16'],\n",
        "    ['sinc3_1', 'int16'],\n",
        "    ['fun3_1', 'int16'],\n",
        "    ['intel3_1', 'int16'],\n",
        "    ['amb3_1', 'int16'],\n",
        "    ['dec', 'bool'],\n",
        "    ['attr', 'int16'],\n",
        "    ['sinc', 'int16'],\n",
        "    ['intel', 'int16'],\n",
        "    ['fun', 'int16'],\n",
        "    ['amb', 'int16'],\n",
        "    ['shar', 'int16'],\n",
        "    ['like', 'int16'],\n",
        "    ['prob', 'int16'],\n",
        "    ['met', 'int16'],\n",
        "    ['match_es', 'int16'],\n",
        "    ['satis_2', 'int16'],\n",
        "    ['length', 'int16'],\n",
        "    ['numdat_2', 'int16']\n",
        "]"
      ],
      "execution_count": 13,
      "outputs": []
    },
    {
      "cell_type": "markdown",
      "metadata": {
        "id": "zLvc55v8VFCQ"
      },
      "source": [
        "Create new dataframe containing relevant features"
      ]
    },
    {
      "cell_type": "code",
      "metadata": {
        "id": "yzpakZpLVFCQ"
      },
      "source": [
        "data = data_raw[[feature[0] for feature in relevant_features]]"
      ],
      "execution_count": 14,
      "outputs": []
    },
    {
      "cell_type": "markdown",
      "metadata": {
        "id": "GkS7w3aUVFCQ"
      },
      "source": [
        "Get number of rows and columns of new dataframe"
      ]
    },
    {
      "cell_type": "code",
      "metadata": {
        "colab": {
          "base_uri": "https://localhost:8080/"
        },
        "id": "hbnpE0roVFCR",
        "outputId": "f442ba42-93cc-4b11-ff31-6c5b36a3d06e"
      },
      "source": [
        "data.shape"
      ],
      "execution_count": 15,
      "outputs": [
        {
          "output_type": "execute_result",
          "data": {
            "text/plain": [
              "(8378, 77)"
            ]
          },
          "metadata": {
            "tags": []
          },
          "execution_count": 15
        }
      ]
    },
    {
      "cell_type": "markdown",
      "metadata": {
        "id": "25uYIMkIVFCR"
      },
      "source": [
        "### 3.2 Feature datatypes<a id=\"3.2\"></a>"
      ]
    },
    {
      "cell_type": "markdown",
      "metadata": {
        "id": "yVfHHUbvVFCR"
      },
      "source": [
        "Update feature datatypes"
      ]
    },
    {
      "cell_type": "code",
      "metadata": {
        "id": "ammMVa8PVFCR"
      },
      "source": [
        "data = data.astype({feature: datatype if all(data[feature].notna().values) else 'float32' if datatype == 'int16' else datatype for (feature, datatype) in relevant_features})"
      ],
      "execution_count": 16,
      "outputs": []
    },
    {
      "cell_type": "markdown",
      "metadata": {
        "id": "u6HJWpNrVFCS"
      },
      "source": [
        "### 3.3 Data export<a id=\"3.3\"></a>"
      ]
    },
    {
      "cell_type": "markdown",
      "metadata": {
        "id": "DFPdbfRHVFCS"
      },
      "source": [
        "Persist dataframe containing relevant features with appropriate datatypes"
      ]
    },
    {
      "cell_type": "code",
      "metadata": {
        "id": "Oilbk2oVVFCS"
      },
      "source": [
        "data.to_csv(\n",
        "    path_or_buf='./data.csv',\n",
        "    index=False\n",
        ")"
      ],
      "execution_count": 17,
      "outputs": []
    },
    {
      "cell_type": "markdown",
      "metadata": {
        "id": "MOHXbvA3VFCS"
      },
      "source": [
        "## 4 Exploration<a id=\"4\"></a>"
      ]
    },
    {
      "cell_type": "markdown",
      "metadata": {
        "id": "IrPHAC1eiGF1"
      },
      "source": [
        "### 4.1 Data Information<a id=\"4.1\"></a>"
      ]
    },
    {
      "cell_type": "code",
      "metadata": {
        "id": "nkZFUqS8YA-2"
      },
      "source": [
        "#pd.set_option('dispaly.max_counts', None)\n",
        "pd.options.display.max_columns = None\n",
        "pd.set_option('display.max_row', 500)\n",
        "pd.set_option('display.max_columns', 100)"
      ],
      "execution_count": 18,
      "outputs": []
    },
    {
      "cell_type": "markdown",
      "metadata": {
        "id": "8NfgBda3VFCN"
      },
      "source": [
        "데이터프레임의 row와 columns의 개수 확인"
      ]
    },
    {
      "cell_type": "code",
      "metadata": {
        "colab": {
          "base_uri": "https://localhost:8080/"
        },
        "id": "qj6kesHtVFCN",
        "outputId": "95a72d7a-a9f2-4cb9-a9a9-fc02401e914b"
      },
      "source": [
        "data.shape"
      ],
      "execution_count": 19,
      "outputs": [
        {
          "output_type": "execute_result",
          "data": {
            "text/plain": [
              "(8378, 77)"
            ]
          },
          "metadata": {
            "tags": []
          },
          "execution_count": 19
        }
      ]
    },
    {
      "cell_type": "markdown",
      "metadata": {
        "id": "VKvvegVYFk56"
      },
      "source": [
        "데이터 타입 확인"
      ]
    },
    {
      "cell_type": "code",
      "metadata": {
        "id": "RRDXxzd0Xt8u",
        "colab": {
          "base_uri": "https://localhost:8080/"
        },
        "outputId": "cfcfa073-4336-4643-9f2d-c443a96500f8"
      },
      "source": [
        "data.dtypes"
      ],
      "execution_count": 20,
      "outputs": [
        {
          "output_type": "execute_result",
          "data": {
            "text/plain": [
              "iid            int16\n",
              "gender          bool\n",
              "wave           int16\n",
              "position       int16\n",
              "order          int16\n",
              "pid          float32\n",
              "age_o        float32\n",
              "race_o      category\n",
              "pf_o_att     float32\n",
              "pf_o_sin     float32\n",
              "pf_o_int     float32\n",
              "pf_o_fun     float32\n",
              "pf_o_amb     float32\n",
              "pf_o_sha     float32\n",
              "dec_o           bool\n",
              "attr_o       float32\n",
              "sinc_o       float32\n",
              "intel_o      float32\n",
              "fun_o        float32\n",
              "amb_o        float32\n",
              "shar_o       float32\n",
              "like_o       float32\n",
              "prob_o       float32\n",
              "met_o           bool\n",
              "age          float32\n",
              "field_cd    category\n",
              "race        category\n",
              "imprace      float32\n",
              "imprelig     float32\n",
              "goal        category\n",
              "date         float32\n",
              "go_out       float32\n",
              "career_c    category\n",
              "sports       float32\n",
              "tvsports     float32\n",
              "exercise     float32\n",
              "dining       float32\n",
              "museums      float32\n",
              "art          float32\n",
              "hiking       float32\n",
              "gaming       float32\n",
              "clubbing     float32\n",
              "reading      float32\n",
              "tv           float32\n",
              "theater      float32\n",
              "movies       float32\n",
              "concerts     float32\n",
              "music        float32\n",
              "shopping     float32\n",
              "yoga         float32\n",
              "exphappy     float32\n",
              "expnum       float32\n",
              "attr1_1      float32\n",
              "sinc1_1      float32\n",
              "intel1_1     float32\n",
              "fun1_1       float32\n",
              "amb1_1       float32\n",
              "shar1_1      float32\n",
              "attr3_1      float32\n",
              "sinc3_1      float32\n",
              "fun3_1       float32\n",
              "intel3_1     float32\n",
              "amb3_1       float32\n",
              "dec             bool\n",
              "attr         float32\n",
              "sinc         float32\n",
              "intel        float32\n",
              "fun          float32\n",
              "amb          float32\n",
              "shar         float32\n",
              "like         float32\n",
              "prob         float32\n",
              "met          float32\n",
              "match_es     float32\n",
              "satis_2      float32\n",
              "length       float32\n",
              "numdat_2     float32\n",
              "dtype: object"
            ]
          },
          "metadata": {
            "tags": []
          },
          "execution_count": 20
        }
      ]
    },
    {
      "cell_type": "markdown",
      "metadata": {
        "id": "7QPujH3BF51T"
      },
      "source": [
        "중복값 여부 확인"
      ]
    },
    {
      "cell_type": "code",
      "metadata": {
        "id": "B9uy51siYqOp",
        "colab": {
          "base_uri": "https://localhost:8080/"
        },
        "outputId": "5df3e8c5-b7dd-4d4b-d488-be28c5a773f6"
      },
      "source": [
        "data.T.duplicated()"
      ],
      "execution_count": 21,
      "outputs": [
        {
          "output_type": "execute_result",
          "data": {
            "text/plain": [
              "iid         False\n",
              "gender      False\n",
              "wave        False\n",
              "position    False\n",
              "order       False\n",
              "pid         False\n",
              "age_o       False\n",
              "race_o      False\n",
              "pf_o_att    False\n",
              "pf_o_sin    False\n",
              "pf_o_int    False\n",
              "pf_o_fun    False\n",
              "pf_o_amb    False\n",
              "pf_o_sha    False\n",
              "dec_o       False\n",
              "attr_o      False\n",
              "sinc_o      False\n",
              "intel_o     False\n",
              "fun_o       False\n",
              "amb_o       False\n",
              "shar_o      False\n",
              "like_o      False\n",
              "prob_o      False\n",
              "met_o       False\n",
              "age         False\n",
              "field_cd    False\n",
              "race        False\n",
              "imprace     False\n",
              "imprelig    False\n",
              "goal        False\n",
              "date        False\n",
              "go_out      False\n",
              "career_c    False\n",
              "sports      False\n",
              "tvsports    False\n",
              "exercise    False\n",
              "dining      False\n",
              "museums     False\n",
              "art         False\n",
              "hiking      False\n",
              "gaming      False\n",
              "clubbing    False\n",
              "reading     False\n",
              "tv          False\n",
              "theater     False\n",
              "movies      False\n",
              "concerts    False\n",
              "music       False\n",
              "shopping    False\n",
              "yoga        False\n",
              "exphappy    False\n",
              "expnum      False\n",
              "attr1_1     False\n",
              "sinc1_1     False\n",
              "intel1_1    False\n",
              "fun1_1      False\n",
              "amb1_1      False\n",
              "shar1_1     False\n",
              "attr3_1     False\n",
              "sinc3_1     False\n",
              "fun3_1      False\n",
              "intel3_1    False\n",
              "amb3_1      False\n",
              "dec         False\n",
              "attr        False\n",
              "sinc        False\n",
              "intel       False\n",
              "fun         False\n",
              "amb         False\n",
              "shar        False\n",
              "like        False\n",
              "prob        False\n",
              "met         False\n",
              "match_es    False\n",
              "satis_2     False\n",
              "length      False\n",
              "numdat_2    False\n",
              "dtype: bool"
            ]
          },
          "metadata": {
            "tags": []
          },
          "execution_count": 21
        }
      ]
    },
    {
      "cell_type": "markdown",
      "metadata": {
        "id": "mZAbtq2gF_x-"
      },
      "source": [
        "결측치 확인"
      ]
    },
    {
      "cell_type": "code",
      "metadata": {
        "id": "F7oEORcuYx5Z",
        "colab": {
          "base_uri": "https://localhost:8080/"
        },
        "outputId": "40fa6246-6b98-44e4-ac2c-23e9e09f9fd2"
      },
      "source": [
        "# 전체 데이터 개수 : 8378\n",
        "\n",
        "data.isnull().sum()"
      ],
      "execution_count": 22,
      "outputs": [
        {
          "output_type": "execute_result",
          "data": {
            "text/plain": [
              "iid            0\n",
              "gender         0\n",
              "wave           0\n",
              "position       0\n",
              "order          0\n",
              "pid           10\n",
              "age_o        104\n",
              "race_o        73\n",
              "pf_o_att      89\n",
              "pf_o_sin      89\n",
              "pf_o_int      89\n",
              "pf_o_fun      98\n",
              "pf_o_amb     107\n",
              "pf_o_sha     129\n",
              "dec_o          0\n",
              "attr_o       212\n",
              "sinc_o       287\n",
              "intel_o      306\n",
              "fun_o        360\n",
              "amb_o        722\n",
              "shar_o      1076\n",
              "like_o       250\n",
              "prob_o       318\n",
              "met_o          0\n",
              "age           95\n",
              "field_cd      82\n",
              "race          63\n",
              "imprace       79\n",
              "imprelig      79\n",
              "goal          79\n",
              "date          97\n",
              "go_out        79\n",
              "career_c     138\n",
              "sports        79\n",
              "tvsports      79\n",
              "exercise      79\n",
              "dining        79\n",
              "museums       79\n",
              "art           79\n",
              "hiking        79\n",
              "gaming        79\n",
              "clubbing      79\n",
              "reading       79\n",
              "tv            79\n",
              "theater       79\n",
              "movies        79\n",
              "concerts      79\n",
              "music         79\n",
              "shopping      79\n",
              "yoga          79\n",
              "exphappy     101\n",
              "expnum      6578\n",
              "attr1_1       79\n",
              "sinc1_1       79\n",
              "intel1_1      79\n",
              "fun1_1        89\n",
              "amb1_1        99\n",
              "shar1_1      121\n",
              "attr3_1      105\n",
              "sinc3_1      105\n",
              "fun3_1       105\n",
              "intel3_1     105\n",
              "amb3_1       105\n",
              "dec            0\n",
              "attr         202\n",
              "sinc         277\n",
              "intel        296\n",
              "fun          350\n",
              "amb          712\n",
              "shar        1067\n",
              "like         240\n",
              "prob         309\n",
              "met          375\n",
              "match_es    1173\n",
              "satis_2      915\n",
              "length       915\n",
              "numdat_2     945\n",
              "dtype: int64"
            ]
          },
          "metadata": {
            "tags": []
          },
          "execution_count": 22
        }
      ]
    },
    {
      "cell_type": "markdown",
      "metadata": {
        "id": "311-4zp4VFCS"
      },
      "source": [
        "### 4.2 Univariate analysis<a id=\"4.1\"></a>"
      ]
    },
    {
      "cell_type": "markdown",
      "metadata": {
        "id": "lIBgPp9CVFCS"
      },
      "source": [
        "Get proportion of dates where partner matched with subject"
      ]
    },
    {
      "cell_type": "code",
      "metadata": {
        "colab": {
          "base_uri": "https://localhost:8080/"
        },
        "id": "mbXzGqJpVFCS",
        "outputId": "25b02998-7446-4c14-84cc-a4e4fdb8ac99"
      },
      "source": [
        "partner_accepts = data['dec_o']\n",
        "round(partner_accepts[partner_accepts == True].count()/partner_accepts.count(),3)"
      ],
      "execution_count": 23,
      "outputs": [
        {
          "output_type": "execute_result",
          "data": {
            "text/plain": [
              "0.42"
            ]
          },
          "metadata": {
            "tags": []
          },
          "execution_count": 23
        }
      ]
    },
    {
      "cell_type": "markdown",
      "metadata": {
        "id": "wyouySdxVFCT"
      },
      "source": [
        "Plot the distributions of subject attribute ratings from their partners"
      ]
    },
    {
      "cell_type": "code",
      "metadata": {
        "colab": {
          "base_uri": "https://localhost:8080/",
          "height": 676
        },
        "id": "9UFf_6p1VFCT",
        "outputId": "0efe54b0-7409-4f81-817e-66812c685b0a"
      },
      "source": [
        "plt.figure(figsize=(16,10))\n",
        "plt.tight_layout(pad=5.0)\n",
        "\n",
        "plt.subplot(2,3,1)\n",
        "plot_distribution(\n",
        "    data=data['attr_o'],\n",
        "    bins=np.arange(0, 10, 0.5).tolist(),\n",
        "    title='Subject\\'s attractiveness rating',\n",
        "    xlabel='Attractiveness rating',\n",
        "    ylabel='Number of subjects'\n",
        ")\n",
        "plt.subplot(2,3,2)\n",
        "plot_distribution(\n",
        "    data=data['sinc_o'],\n",
        "    bins=np.arange(0, 10, 0.5).tolist(),\n",
        "    title='Subject\\'s sincerity rating',\n",
        "    xlabel='Sincerity rating',\n",
        "    ylabel='Number of subjects'\n",
        ")\n",
        "plt.subplot(2,3,3)\n",
        "plot_distribution(\n",
        "    data=data['intel_o'],\n",
        "    bins=np.arange(0, 10, 0.5).tolist(),\n",
        "    title='Subject\\'s intelligence rating',\n",
        "    xlabel='Intelligence rating',\n",
        "    ylabel='Number of subjects'\n",
        ")\n",
        "plt.subplot(2,3,4)\n",
        "plot_distribution(\n",
        "    data=data['fun_o'],\n",
        "    bins=np.arange(0, 10, 0.5).tolist(),\n",
        "    title='Subject\\'s fun rating',\n",
        "    xlabel='Fun rating',\n",
        "    ylabel='Number of subjects'\n",
        ")\n",
        "plt.subplot(2,3,5)\n",
        "plot_distribution(\n",
        "    data=data['amb_o'],\n",
        "    bins=np.arange(0, 10, 0.5).tolist(),\n",
        "    title='Subject\\'s ambition rating',\n",
        "    xlabel='Ambition rating',\n",
        "    ylabel='Number of subjects'\n",
        ")\n",
        "plt.subplot(2,3,6)\n",
        "plot_distribution(\n",
        "    data=data['shar_o'],\n",
        "    bins=np.arange(0, 10, 0.5).tolist(),\n",
        "    title='Subject\\'s shared interest rating',\n",
        "    xlabel='Shared interest rating',\n",
        "    ylabel='Number of subjects'\n",
        ")"
      ],
      "execution_count": 24,
      "outputs": [
        {
          "output_type": "stream",
          "text": [
            "/usr/local/lib/python3.7/dist-packages/seaborn/distributions.py:2557: FutureWarning: `distplot` is a deprecated function and will be removed in a future version. Please adapt your code to use either `displot` (a figure-level function with similar flexibility) or `histplot` (an axes-level function for histograms).\n",
            "  warnings.warn(msg, FutureWarning)\n"
          ],
          "name": "stderr"
        },
        {
          "output_type": "display_data",
          "data": {
            "image/png": "[encoded data removed]",
            "text/plain": [
              "<Figure size 1152x720 with 6 Axes>"
            ]
          },
          "metadata": {
            "tags": [],
            "needs_background": "light"
          }
        }
      ]
    },
    {
      "cell_type": "markdown",
      "metadata": {
        "id": "U0GcK0iTVFCT"
      },
      "source": [
        "Calculate the moments of subject attribute ratings from their partners"
      ]
    },
    {
      "cell_type": "code",
      "metadata": {
        "colab": {
          "base_uri": "https://localhost:8080/"
        },
        "id": "sU850Zv6VFCT",
        "outputId": "718a232a-333e-43f4-8324-ab9232cee1b5"
      },
      "source": [
        "print_moments('Attractiveness rating', data['attr_o'])"
      ],
      "execution_count": 25,
      "outputs": [
        {
          "output_type": "stream",
          "text": [
            "Attractiveness rating\n",
            "Mean:               6.19\n",
            "Standard deviation: 1.95\n",
            "Skewness:          -0.32\n",
            "Kurtosis:          -0.10\n"
          ],
          "name": "stdout"
        }
      ]
    },
    {
      "cell_type": "code",
      "metadata": {
        "colab": {
          "base_uri": "https://localhost:8080/"
        },
        "id": "f14ev3jDVFCT",
        "outputId": "5b24db24-7c55-48e9-f56a-d21ddff4f6c7"
      },
      "source": [
        "print_moments('Sincerity rating', data['sinc_o'])"
      ],
      "execution_count": 26,
      "outputs": [
        {
          "output_type": "stream",
          "text": [
            "Sincerity rating\n",
            "Mean:               7.18\n",
            "Standard deviation: 1.74\n",
            "Skewness:          -0.64\n",
            "Kurtosis:           0.75\n"
          ],
          "name": "stdout"
        }
      ]
    },
    {
      "cell_type": "code",
      "metadata": {
        "colab": {
          "base_uri": "https://localhost:8080/"
        },
        "id": "9GINtJYlVFCT",
        "outputId": "08864287-d17a-420b-a878-fca7180c8f8c"
      },
      "source": [
        "print_moments('Intelligence rating', data['intel_o'])"
      ],
      "execution_count": 27,
      "outputs": [
        {
          "output_type": "stream",
          "text": [
            "Intelligence rating\n",
            "Mean:               7.37\n",
            "Standard deviation: 1.55\n",
            "Skewness:          -0.55\n",
            "Kurtosis:           0.76\n"
          ],
          "name": "stdout"
        }
      ]
    },
    {
      "cell_type": "code",
      "metadata": {
        "colab": {
          "base_uri": "https://localhost:8080/"
        },
        "id": "34989216VFCU",
        "outputId": "d2d811d3-a200-4c06-eaed-6bc535dcd2b2"
      },
      "source": [
        "print_moments('Fun rating', data['fun_o'])"
      ],
      "execution_count": 28,
      "outputs": [
        {
          "output_type": "stream",
          "text": [
            "Fun rating\n",
            "Mean:               6.40\n",
            "Standard deviation: 1.95\n",
            "Skewness:          -0.45\n",
            "Kurtosis:           0.10\n"
          ],
          "name": "stdout"
        }
      ]
    },
    {
      "cell_type": "code",
      "metadata": {
        "colab": {
          "base_uri": "https://localhost:8080/"
        },
        "id": "vW8eUaWnVFCU",
        "outputId": "c013e5d5-f620-4c05-a01e-e12556fea637"
      },
      "source": [
        "print_moments('Ambition rating', data['amb_o'])"
      ],
      "execution_count": 29,
      "outputs": [
        {
          "output_type": "stream",
          "text": [
            "Ambition rating\n",
            "Mean:               6.78\n",
            "Standard deviation: 1.79\n",
            "Skewness:          -0.39\n",
            "Kurtosis:           0.17\n"
          ],
          "name": "stdout"
        }
      ]
    },
    {
      "cell_type": "code",
      "metadata": {
        "colab": {
          "base_uri": "https://localhost:8080/"
        },
        "id": "cGVaeEW1VFCU",
        "outputId": "81785455-f81c-4a12-8e02-3d9b10ea8d58"
      },
      "source": [
        "print_moments('Shared interest rating', data['shar_o'])"
      ],
      "execution_count": 30,
      "outputs": [
        {
          "output_type": "stream",
          "text": [
            "Shared interest rating\n",
            "Mean:               5.47\n",
            "Standard deviation: 2.16\n",
            "Skewness:          -0.19\n",
            "Kurtosis:          -0.37\n"
          ],
          "name": "stdout"
        }
      ]
    },
    {
      "cell_type": "markdown",
      "metadata": {
        "id": "s2GIA-UwVFCU"
      },
      "source": [
        "Get features with highest variance"
      ]
    },
    {
      "cell_type": "code",
      "metadata": {
        "colab": {
          "base_uri": "https://localhost:8080/"
        },
        "id": "S-GR_h8JVFCU",
        "outputId": "a095c0d2-c842-4571-a440-ebcdc46272c1"
      },
      "source": [
        "data.std().sort_values(ascending=False).head(10)"
      ],
      "execution_count": 31,
      "outputs": [
        {
          "output_type": "execute_result",
          "data": {
            "text/plain": [
              "pid         158.584335\n",
              "iid         158.583367\n",
              "attr1_1      12.587790\n",
              "pf_o_att     12.569827\n",
              "sinc1_1       7.046759\n",
              "pf_o_sin      7.044133\n",
              "intel1_1      6.783009\n",
              "pf_o_int      6.782840\n",
              "pf_o_sha      6.362691\n",
              "shar1_1       6.362234\n",
              "dtype: float64"
            ]
          },
          "metadata": {
            "tags": []
          },
          "execution_count": 31
        }
      ]
    },
    {
      "cell_type": "markdown",
      "metadata": {
        "id": "VTqgsbMEVFCU"
      },
      "source": [
        "Get features with highest skew"
      ]
    },
    {
      "cell_type": "code",
      "metadata": {
        "colab": {
          "base_uri": "https://localhost:8080/"
        },
        "id": "oq8QrsueVFCU",
        "outputId": "61526646-74f2-469c-f9f8-d750ccd64eba"
      },
      "source": [
        "abs(data.skew()).sort_values(ascending=False).head(10)"
      ],
      "execution_count": 32,
      "outputs": [
        {
          "output_type": "execute_result",
          "data": {
            "text/plain": [
              "pf_o_att    2.176008\n",
              "attr1_1     2.173592\n",
              "match_es    1.522720\n",
              "expnum      1.394183\n",
              "go_out      1.204180\n",
              "movies      1.081646\n",
              "sinc3_1     1.080209\n",
              "age_o       1.073471\n",
              "age         1.069590\n",
              "fun3_1      0.824947\n",
              "dtype: float64"
            ]
          },
          "metadata": {
            "tags": []
          },
          "execution_count": 32
        }
      ]
    },
    {
      "cell_type": "markdown",
      "metadata": {
        "id": "HLhsiTWXVFCV"
      },
      "source": [
        "### 4.3 Bivariate analysis<a id=\"4.2\"></a>"
      ]
    },
    {
      "cell_type": "markdown",
      "metadata": {
        "id": "tqKEJ1dvVFCV"
      },
      "source": [
        "Visualise correlation between selected features"
      ]
    },
    {
      "cell_type": "code",
      "metadata": {
        "id": "dIIGrwXoVFCV"
      },
      "source": [
        "features_selected = [\n",
        "    'dec_o',\n",
        "    'pf_o_att',\n",
        "    'pf_o_sin',\n",
        "    'pf_o_int',\n",
        "    'pf_o_fun',\n",
        "    'pf_o_amb',\n",
        "    'pf_o_sha',\n",
        "    'attr_o',\n",
        "    'sinc_o',\n",
        "    'intel_o',\n",
        "    'fun_o',\n",
        "    'amb_o',\n",
        "    'shar_o'\n",
        "]"
      ],
      "execution_count": 33,
      "outputs": []
    },
    {
      "cell_type": "code",
      "metadata": {
        "colab": {
          "base_uri": "https://localhost:8080/",
          "height": 629
        },
        "id": "DZACk873VFCV",
        "outputId": "e4b6a665-0d95-4dc3-b9e7-0eb6b40f2ca7"
      },
      "source": [
        "plt.figure(figsize=(12,10))\n",
        "cmap = plt.cm.RdBu\n",
        "mask = np.triu(data[features_selected].astype(float).corr())\n",
        "sns.heatmap(\n",
        "    data[features_selected].astype(float).corr(),\n",
        "    square=True,\n",
        "    cmap=cmap,\n",
        "    mask=mask,\n",
        "    linewidths=0.1,\n",
        "    vmax=1.0,\n",
        "    linecolor='white'\n",
        ");"
      ],
      "execution_count": 34,
      "outputs": [
        {
          "output_type": "display_data",
          "data": {
            "image/png": "[encoded data removed]",
            "text/plain": [
              "<Figure size 864x720 with 2 Axes>"
            ]
          },
          "metadata": {
            "tags": [],
            "needs_background": "light"
          }
        }
      ]
    },
    {
      "cell_type": "markdown",
      "metadata": {
        "id": "4Y2adNxbVFCV"
      },
      "source": [
        "Visualise correlation between selected features for men"
      ]
    },
    {
      "cell_type": "code",
      "metadata": {
        "colab": {
          "base_uri": "https://localhost:8080/",
          "height": 629
        },
        "id": "E-jIt4vLVFCV",
        "outputId": "e8acb206-2bc7-43cd-994f-2008495a1a43"
      },
      "source": [
        "data_men = data[data['gender']==1]\n",
        "\n",
        "plt.figure(figsize=(12,10))\n",
        "cmap = plt.cm.RdBu\n",
        "mask = np.triu(data_men[features_selected].astype(float).corr())\n",
        "sns.heatmap(\n",
        "    data_men[features_selected].astype(float).corr(),\n",
        "    square=True,\n",
        "    cmap=cmap,\n",
        "    mask=mask,\n",
        "    linewidths=0.1,\n",
        "    vmax=1.0,\n",
        "    linecolor='white'\n",
        ");"
      ],
      "execution_count": 35,
      "outputs": [
        {
          "output_type": "display_data",
          "data": {
            "image/png": "[encoded data removed]",
            "text/plain": [
              "<Figure size 864x720 with 2 Axes>"
            ]
          },
          "metadata": {
            "tags": [],
            "needs_background": "light"
          }
        }
      ]
    },
    {
      "cell_type": "markdown",
      "metadata": {
        "id": "GBnvKYyQVFCV"
      },
      "source": [
        "Visualise correlation between selected features for women"
      ]
    },
    {
      "cell_type": "code",
      "metadata": {
        "colab": {
          "base_uri": "https://localhost:8080/",
          "height": 629
        },
        "id": "T0_z_CrWVFCW",
        "outputId": "8dc1c009-f5d3-4269-8403-121b9427f443"
      },
      "source": [
        "data_women = data[data['gender']==0]\n",
        "\n",
        "plt.figure(figsize=(12,10))\n",
        "cmap = plt.cm.RdBu\n",
        "mask = np.triu(data_women[features_selected].astype(float).corr())\n",
        "sns.heatmap(\n",
        "    data_women[features_selected].astype(float).corr(),\n",
        "    square=True,\n",
        "    cmap=cmap,\n",
        "    mask=mask,\n",
        "    linewidths=0.1,\n",
        "    vmax=1.0,\n",
        "    linecolor='white'\n",
        ");"
      ],
      "execution_count": 36,
      "outputs": [
        {
          "output_type": "display_data",
          "data": {
            "image/png": "[encoded data removed]",
            "text/plain": [
              "<Figure size 864x720 with 2 Axes>"
            ]
          },
          "metadata": {
            "tags": [],
            "needs_background": "light"
          }
        }
      ]
    },
    {
      "cell_type": "markdown",
      "metadata": {
        "id": "IPxbwM6uVFCW"
      },
      "source": [
        "Get highest correlated feature pairs"
      ]
    },
    {
      "cell_type": "code",
      "metadata": {
        "colab": {
          "base_uri": "https://localhost:8080/"
        },
        "id": "NDWu_1klVFCW",
        "outputId": "3e738733-0826-4541-f37b-85f4a7a0d7ef"
      },
      "source": [
        "correlations = data.corr().abs().unstack().sort_values(ascending=False).drop_duplicates()\n",
        "correlations = correlations[correlations != 1]\n",
        "correlations[correlations > 0.6]"
      ],
      "execution_count": 37,
      "outputs": [
        {
          "output_type": "execute_result",
          "data": {
            "text/plain": [
              "iid      wave        0.996713\n",
              "pid      wave        0.996712\n",
              "iid      pid         0.992968\n",
              "art      museums     0.858548\n",
              "fun_o    like_o      0.691267\n",
              "fun      like        0.691248\n",
              "attr_o   like_o      0.667240\n",
              "attr     like        0.667239\n",
              "shar     like        0.660826\n",
              "like_o   shar_o      0.660448\n",
              "sinc     intel       0.657664\n",
              "intel_o  sinc_o      0.657548\n",
              "music    concerts    0.655728\n",
              "amb      intel       0.627483\n",
              "intel_o  amb_o       0.627332\n",
              "shar_o   fun_o       0.617995\n",
              "shar     fun         0.617989\n",
              "dtype: float64"
            ]
          },
          "metadata": {
            "tags": []
          },
          "execution_count": 37
        }
      ]
    },
    {
      "cell_type": "markdown",
      "metadata": {
        "id": "qvh0_LsbVFCW"
      },
      "source": [
        "Get highest correlated features with target variable"
      ]
    },
    {
      "cell_type": "code",
      "metadata": {
        "colab": {
          "base_uri": "https://localhost:8080/"
        },
        "id": "J_I92v1ZVFCW",
        "outputId": "967d508d-f647-468b-8f78-53c9a02a1d7c"
      },
      "source": [
        "partner_decision_correlations = correlations.loc['dec_o']\n",
        "partner_decision_correlations[partner_decision_correlations > 0.1]"
      ],
      "execution_count": 38,
      "outputs": [
        {
          "output_type": "execute_result",
          "data": {
            "text/plain": [
              "attr_o     0.486885\n",
              "fun_o      0.414276\n",
              "intel_o    0.216704\n",
              "amb_o      0.183216\n",
              "gender     0.111550\n",
              "dtype: float64"
            ]
          },
          "metadata": {
            "tags": []
          },
          "execution_count": 38
        }
      ]
    },
    {
      "cell_type": "markdown",
      "metadata": {
        "id": "qPZmczjPVFCW"
      },
      "source": [
        "## 5 Engineering<a id=\"5\"></a>"
      ]
    },
    {
      "cell_type": "markdown",
      "metadata": {
        "id": "wR1taEYFVFCW"
      },
      "source": [
        "### 5.1 Sample analysis<a id=\"5.1\"></a>"
      ]
    },
    {
      "cell_type": "markdown",
      "metadata": {
        "id": "ZjBGTTIVVFCX"
      },
      "source": [
        "Get proportion of dataframe with missing samples"
      ]
    },
    {
      "cell_type": "code",
      "metadata": {
        "colab": {
          "base_uri": "https://localhost:8080/",
          "height": 1000
        },
        "id": "CqbYLWxBFg4u",
        "outputId": "0ee14367-c0c1-4b08-8295-d44de1d0cc72"
      },
      "source": [
        "def missing_values(df):\n",
        "    missing=pd.DataFrame(df.isnull().sum()/len(data))*100\n",
        "    missing.columns = ['missing_values(%)']\n",
        "    missing['missing_values(numbers)'] = pd.DataFrame(df.isnull().sum())\n",
        "    return missing.sort_values(by='missing_values(%)', ascending=False)\n",
        "missing_values(data)"
      ],
      "execution_count": 39,
      "outputs": [
        {
          "output_type": "execute_result",
          "data": {
            "text/html": [
              "<div>\n",
              "<style scoped>\n",
              "    .dataframe tbody tr th:only-of-type {\n",
              "        vertical-align: middle;\n",
              "    }\n",
              "\n",
              "    .dataframe tbody tr th {\n",
              "        vertical-align: top;\n",
              "    }\n",
              "\n",
              "    .dataframe thead th {\n",
              "        text-align: right;\n",
              "    }\n",
              "</style>\n",
              "<table border=\"1\" class=\"dataframe\">\n",
              "  <thead>\n",
              "    <tr style=\"text-align: right;\">\n",
              "      <th></th>\n",
              "      <th>missing_values(%)</th>\n",
              "      <th>missing_values(numbers)</th>\n",
              "    </tr>\n",
              "  </thead>\n",
              "  <tbody>\n",
              "    <tr>\n",
              "      <th>expnum</th>\n",
              "      <td>78.515159</td>\n",
              "      <td>6578</td>\n",
              "    </tr>\n",
              "    <tr>\n",
              "      <th>match_es</th>\n",
              "      <td>14.000955</td>\n",
              "      <td>1173</td>\n",
              "    </tr>\n",
              "    <tr>\n",
              "      <th>shar_o</th>\n",
              "      <td>12.843161</td>\n",
              "      <td>1076</td>\n",
              "    </tr>\n",
              "    <tr>\n",
              "      <th>shar</th>\n",
              "      <td>12.735736</td>\n",
              "      <td>1067</td>\n",
              "    </tr>\n",
              "    <tr>\n",
              "      <th>numdat_2</th>\n",
              "      <td>11.279542</td>\n",
              "      <td>945</td>\n",
              "    </tr>\n",
              "    <tr>\n",
              "      <th>length</th>\n",
              "      <td>10.921461</td>\n",
              "      <td>915</td>\n",
              "    </tr>\n",
              "    <tr>\n",
              "      <th>satis_2</th>\n",
              "      <td>10.921461</td>\n",
              "      <td>915</td>\n",
              "    </tr>\n",
              "    <tr>\n",
              "      <th>amb_o</th>\n",
              "      <td>8.617809</td>\n",
              "      <td>722</td>\n",
              "    </tr>\n",
              "    <tr>\n",
              "      <th>amb</th>\n",
              "      <td>8.498448</td>\n",
              "      <td>712</td>\n",
              "    </tr>\n",
              "    <tr>\n",
              "      <th>met</th>\n",
              "      <td>4.476009</td>\n",
              "      <td>375</td>\n",
              "    </tr>\n",
              "    <tr>\n",
              "      <th>fun_o</th>\n",
              "      <td>4.296968</td>\n",
              "      <td>360</td>\n",
              "    </tr>\n",
              "    <tr>\n",
              "      <th>fun</th>\n",
              "      <td>4.177608</td>\n",
              "      <td>350</td>\n",
              "    </tr>\n",
              "    <tr>\n",
              "      <th>prob_o</th>\n",
              "      <td>3.795655</td>\n",
              "      <td>318</td>\n",
              "    </tr>\n",
              "    <tr>\n",
              "      <th>prob</th>\n",
              "      <td>3.688231</td>\n",
              "      <td>309</td>\n",
              "    </tr>\n",
              "    <tr>\n",
              "      <th>intel_o</th>\n",
              "      <td>3.652423</td>\n",
              "      <td>306</td>\n",
              "    </tr>\n",
              "    <tr>\n",
              "      <th>intel</th>\n",
              "      <td>3.533063</td>\n",
              "      <td>296</td>\n",
              "    </tr>\n",
              "    <tr>\n",
              "      <th>sinc_o</th>\n",
              "      <td>3.425639</td>\n",
              "      <td>287</td>\n",
              "    </tr>\n",
              "    <tr>\n",
              "      <th>sinc</th>\n",
              "      <td>3.306278</td>\n",
              "      <td>277</td>\n",
              "    </tr>\n",
              "    <tr>\n",
              "      <th>like_o</th>\n",
              "      <td>2.984006</td>\n",
              "      <td>250</td>\n",
              "    </tr>\n",
              "    <tr>\n",
              "      <th>like</th>\n",
              "      <td>2.864646</td>\n",
              "      <td>240</td>\n",
              "    </tr>\n",
              "    <tr>\n",
              "      <th>attr_o</th>\n",
              "      <td>2.530437</td>\n",
              "      <td>212</td>\n",
              "    </tr>\n",
              "    <tr>\n",
              "      <th>attr</th>\n",
              "      <td>2.411077</td>\n",
              "      <td>202</td>\n",
              "    </tr>\n",
              "    <tr>\n",
              "      <th>career_c</th>\n",
              "      <td>1.647171</td>\n",
              "      <td>138</td>\n",
              "    </tr>\n",
              "    <tr>\n",
              "      <th>pf_o_sha</th>\n",
              "      <td>1.539747</td>\n",
              "      <td>129</td>\n",
              "    </tr>\n",
              "    <tr>\n",
              "      <th>shar1_1</th>\n",
              "      <td>1.444259</td>\n",
              "      <td>121</td>\n",
              "    </tr>\n",
              "    <tr>\n",
              "      <th>pf_o_amb</th>\n",
              "      <td>1.277154</td>\n",
              "      <td>107</td>\n",
              "    </tr>\n",
              "    <tr>\n",
              "      <th>sinc3_1</th>\n",
              "      <td>1.253282</td>\n",
              "      <td>105</td>\n",
              "    </tr>\n",
              "    <tr>\n",
              "      <th>fun3_1</th>\n",
              "      <td>1.253282</td>\n",
              "      <td>105</td>\n",
              "    </tr>\n",
              "    <tr>\n",
              "      <th>intel3_1</th>\n",
              "      <td>1.253282</td>\n",
              "      <td>105</td>\n",
              "    </tr>\n",
              "    <tr>\n",
              "      <th>amb3_1</th>\n",
              "      <td>1.253282</td>\n",
              "      <td>105</td>\n",
              "    </tr>\n",
              "    <tr>\n",
              "      <th>attr3_1</th>\n",
              "      <td>1.253282</td>\n",
              "      <td>105</td>\n",
              "    </tr>\n",
              "    <tr>\n",
              "      <th>age_o</th>\n",
              "      <td>1.241346</td>\n",
              "      <td>104</td>\n",
              "    </tr>\n",
              "    <tr>\n",
              "      <th>exphappy</th>\n",
              "      <td>1.205538</td>\n",
              "      <td>101</td>\n",
              "    </tr>\n",
              "    <tr>\n",
              "      <th>amb1_1</th>\n",
              "      <td>1.181666</td>\n",
              "      <td>99</td>\n",
              "    </tr>\n",
              "    <tr>\n",
              "      <th>pf_o_fun</th>\n",
              "      <td>1.169730</td>\n",
              "      <td>98</td>\n",
              "    </tr>\n",
              "    <tr>\n",
              "      <th>date</th>\n",
              "      <td>1.157794</td>\n",
              "      <td>97</td>\n",
              "    </tr>\n",
              "    <tr>\n",
              "      <th>age</th>\n",
              "      <td>1.133922</td>\n",
              "      <td>95</td>\n",
              "    </tr>\n",
              "    <tr>\n",
              "      <th>fun1_1</th>\n",
              "      <td>1.062306</td>\n",
              "      <td>89</td>\n",
              "    </tr>\n",
              "    <tr>\n",
              "      <th>pf_o_int</th>\n",
              "      <td>1.062306</td>\n",
              "      <td>89</td>\n",
              "    </tr>\n",
              "    <tr>\n",
              "      <th>pf_o_att</th>\n",
              "      <td>1.062306</td>\n",
              "      <td>89</td>\n",
              "    </tr>\n",
              "    <tr>\n",
              "      <th>pf_o_sin</th>\n",
              "      <td>1.062306</td>\n",
              "      <td>89</td>\n",
              "    </tr>\n",
              "    <tr>\n",
              "      <th>field_cd</th>\n",
              "      <td>0.978754</td>\n",
              "      <td>82</td>\n",
              "    </tr>\n",
              "    <tr>\n",
              "      <th>shopping</th>\n",
              "      <td>0.942946</td>\n",
              "      <td>79</td>\n",
              "    </tr>\n",
              "    <tr>\n",
              "      <th>intel1_1</th>\n",
              "      <td>0.942946</td>\n",
              "      <td>79</td>\n",
              "    </tr>\n",
              "    <tr>\n",
              "      <th>sinc1_1</th>\n",
              "      <td>0.942946</td>\n",
              "      <td>79</td>\n",
              "    </tr>\n",
              "    <tr>\n",
              "      <th>attr1_1</th>\n",
              "      <td>0.942946</td>\n",
              "      <td>79</td>\n",
              "    </tr>\n",
              "    <tr>\n",
              "      <th>yoga</th>\n",
              "      <td>0.942946</td>\n",
              "      <td>79</td>\n",
              "    </tr>\n",
              "    <tr>\n",
              "      <th>art</th>\n",
              "      <td>0.942946</td>\n",
              "      <td>79</td>\n",
              "    </tr>\n",
              "    <tr>\n",
              "      <th>music</th>\n",
              "      <td>0.942946</td>\n",
              "      <td>79</td>\n",
              "    </tr>\n",
              "    <tr>\n",
              "      <th>museums</th>\n",
              "      <td>0.942946</td>\n",
              "      <td>79</td>\n",
              "    </tr>\n",
              "    <tr>\n",
              "      <th>imprace</th>\n",
              "      <td>0.942946</td>\n",
              "      <td>79</td>\n",
              "    </tr>\n",
              "    <tr>\n",
              "      <th>imprelig</th>\n",
              "      <td>0.942946</td>\n",
              "      <td>79</td>\n",
              "    </tr>\n",
              "    <tr>\n",
              "      <th>goal</th>\n",
              "      <td>0.942946</td>\n",
              "      <td>79</td>\n",
              "    </tr>\n",
              "    <tr>\n",
              "      <th>go_out</th>\n",
              "      <td>0.942946</td>\n",
              "      <td>79</td>\n",
              "    </tr>\n",
              "    <tr>\n",
              "      <th>concerts</th>\n",
              "      <td>0.942946</td>\n",
              "      <td>79</td>\n",
              "    </tr>\n",
              "    <tr>\n",
              "      <th>tvsports</th>\n",
              "      <td>0.942946</td>\n",
              "      <td>79</td>\n",
              "    </tr>\n",
              "    <tr>\n",
              "      <th>exercise</th>\n",
              "      <td>0.942946</td>\n",
              "      <td>79</td>\n",
              "    </tr>\n",
              "    <tr>\n",
              "      <th>dining</th>\n",
              "      <td>0.942946</td>\n",
              "      <td>79</td>\n",
              "    </tr>\n",
              "    <tr>\n",
              "      <th>sports</th>\n",
              "      <td>0.942946</td>\n",
              "      <td>79</td>\n",
              "    </tr>\n",
              "    <tr>\n",
              "      <th>gaming</th>\n",
              "      <td>0.942946</td>\n",
              "      <td>79</td>\n",
              "    </tr>\n",
              "    <tr>\n",
              "      <th>clubbing</th>\n",
              "      <td>0.942946</td>\n",
              "      <td>79</td>\n",
              "    </tr>\n",
              "    <tr>\n",
              "      <th>reading</th>\n",
              "      <td>0.942946</td>\n",
              "      <td>79</td>\n",
              "    </tr>\n",
              "    <tr>\n",
              "      <th>tv</th>\n",
              "      <td>0.942946</td>\n",
              "      <td>79</td>\n",
              "    </tr>\n",
              "    <tr>\n",
              "      <th>theater</th>\n",
              "      <td>0.942946</td>\n",
              "      <td>79</td>\n",
              "    </tr>\n",
              "    <tr>\n",
              "      <th>movies</th>\n",
              "      <td>0.942946</td>\n",
              "      <td>79</td>\n",
              "    </tr>\n",
              "    <tr>\n",
              "      <th>hiking</th>\n",
              "      <td>0.942946</td>\n",
              "      <td>79</td>\n",
              "    </tr>\n",
              "    <tr>\n",
              "      <th>race_o</th>\n",
              "      <td>0.871330</td>\n",
              "      <td>73</td>\n",
              "    </tr>\n",
              "    <tr>\n",
              "      <th>race</th>\n",
              "      <td>0.751969</td>\n",
              "      <td>63</td>\n",
              "    </tr>\n",
              "    <tr>\n",
              "      <th>pid</th>\n",
              "      <td>0.119360</td>\n",
              "      <td>10</td>\n",
              "    </tr>\n",
              "    <tr>\n",
              "      <th>wave</th>\n",
              "      <td>0.000000</td>\n",
              "      <td>0</td>\n",
              "    </tr>\n",
              "    <tr>\n",
              "      <th>position</th>\n",
              "      <td>0.000000</td>\n",
              "      <td>0</td>\n",
              "    </tr>\n",
              "    <tr>\n",
              "      <th>order</th>\n",
              "      <td>0.000000</td>\n",
              "      <td>0</td>\n",
              "    </tr>\n",
              "    <tr>\n",
              "      <th>gender</th>\n",
              "      <td>0.000000</td>\n",
              "      <td>0</td>\n",
              "    </tr>\n",
              "    <tr>\n",
              "      <th>dec_o</th>\n",
              "      <td>0.000000</td>\n",
              "      <td>0</td>\n",
              "    </tr>\n",
              "    <tr>\n",
              "      <th>met_o</th>\n",
              "      <td>0.000000</td>\n",
              "      <td>0</td>\n",
              "    </tr>\n",
              "    <tr>\n",
              "      <th>dec</th>\n",
              "      <td>0.000000</td>\n",
              "      <td>0</td>\n",
              "    </tr>\n",
              "    <tr>\n",
              "      <th>iid</th>\n",
              "      <td>0.000000</td>\n",
              "      <td>0</td>\n",
              "    </tr>\n",
              "  </tbody>\n",
              "</table>\n",
              "</div>"
            ],
            "text/plain": [
              "          missing_values(%)  missing_values(numbers)\n",
              "expnum            78.515159                     6578\n",
              "match_es          14.000955                     1173\n",
              "shar_o            12.843161                     1076\n",
              "shar              12.735736                     1067\n",
              "numdat_2          11.279542                      945\n",
              "length            10.921461                      915\n",
              "satis_2           10.921461                      915\n",
              "amb_o              8.617809                      722\n",
              "amb                8.498448                      712\n",
              "met                4.476009                      375\n",
              "fun_o              4.296968                      360\n",
              "fun                4.177608                      350\n",
              "prob_o             3.795655                      318\n",
              "prob               3.688231                      309\n",
              "intel_o            3.652423                      306\n",
              "intel              3.533063                      296\n",
              "sinc_o             3.425639                      287\n",
              "sinc               3.306278                      277\n",
              "like_o             2.984006                      250\n",
              "like               2.864646                      240\n",
              "attr_o             2.530437                      212\n",
              "attr               2.411077                      202\n",
              "career_c           1.647171                      138\n",
              "pf_o_sha           1.539747                      129\n",
              "shar1_1            1.444259                      121\n",
              "pf_o_amb           1.277154                      107\n",
              "sinc3_1            1.253282                      105\n",
              "fun3_1             1.253282                      105\n",
              "intel3_1           1.253282                      105\n",
              "amb3_1             1.253282                      105\n",
              "attr3_1            1.253282                      105\n",
              "age_o              1.241346                      104\n",
              "exphappy           1.205538                      101\n",
              "amb1_1             1.181666                       99\n",
              "pf_o_fun           1.169730                       98\n",
              "date               1.157794                       97\n",
              "age                1.133922                       95\n",
              "fun1_1             1.062306                       89\n",
              "pf_o_int           1.062306                       89\n",
              "pf_o_att           1.062306                       89\n",
              "pf_o_sin           1.062306                       89\n",
              "field_cd           0.978754                       82\n",
              "shopping           0.942946                       79\n",
              "intel1_1           0.942946                       79\n",
              "sinc1_1            0.942946                       79\n",
              "attr1_1            0.942946                       79\n",
              "yoga               0.942946                       79\n",
              "art                0.942946                       79\n",
              "music              0.942946                       79\n",
              "museums            0.942946                       79\n",
              "imprace            0.942946                       79\n",
              "imprelig           0.942946                       79\n",
              "goal               0.942946                       79\n",
              "go_out             0.942946                       79\n",
              "concerts           0.942946                       79\n",
              "tvsports           0.942946                       79\n",
              "exercise           0.942946                       79\n",
              "dining             0.942946                       79\n",
              "sports             0.942946                       79\n",
              "gaming             0.942946                       79\n",
              "clubbing           0.942946                       79\n",
              "reading            0.942946                       79\n",
              "tv                 0.942946                       79\n",
              "theater            0.942946                       79\n",
              "movies             0.942946                       79\n",
              "hiking             0.942946                       79\n",
              "race_o             0.871330                       73\n",
              "race               0.751969                       63\n",
              "pid                0.119360                       10\n",
              "wave               0.000000                        0\n",
              "position           0.000000                        0\n",
              "order              0.000000                        0\n",
              "gender             0.000000                        0\n",
              "dec_o              0.000000                        0\n",
              "met_o              0.000000                        0\n",
              "dec                0.000000                        0\n",
              "iid                0.000000                        0"
            ]
          },
          "metadata": {
            "tags": []
          },
          "execution_count": 39
        }
      ]
    },
    {
      "cell_type": "code",
      "metadata": {
        "colab": {
          "base_uri": "https://localhost:8080/"
        },
        "id": "lNvwRc0dVFCX",
        "outputId": "e3ecc32f-be6f-47a2-ee4d-2edbfdb45c47"
      },
      "source": [
        "missing_samples_proportion = data.isnull().sum()/len(data)\n",
        "missing_samples_proportion.sort_values(ascending=False).head(10)"
      ],
      "execution_count": 40,
      "outputs": [
        {
          "output_type": "execute_result",
          "data": {
            "text/plain": [
              "expnum      0.785152\n",
              "match_es    0.140010\n",
              "shar_o      0.128432\n",
              "shar        0.127357\n",
              "numdat_2    0.112795\n",
              "satis_2     0.109215\n",
              "length      0.109215\n",
              "amb_o       0.086178\n",
              "amb         0.084984\n",
              "met         0.044760\n",
              "dtype: float64"
            ]
          },
          "metadata": {
            "tags": []
          },
          "execution_count": 40
        }
      ]
    },
    {
      "cell_type": "markdown",
      "metadata": {
        "id": "OspodUYSVFCX"
      },
      "source": [
        "Drop features with more than 50% missing samples"
      ]
    },
    {
      "cell_type": "code",
      "metadata": {
        "id": "5CGzsIPpVFCX"
      },
      "source": [
        "#missing_half_samples = missing_samples_proportion[missing_samples_proportion > 0.5].index.values\n",
        "#data.drop(columns=missing_half_samples, inplace=True)"
      ],
      "execution_count": 40,
      "outputs": []
    },
    {
      "cell_type": "markdown",
      "metadata": {
        "id": "EXdzfz2kVFCX"
      },
      "source": [
        "Impute missing samples using iterative imputer"
      ]
    },
    {
      "cell_type": "code",
      "metadata": {
        "id": "EhM6_TUsVFCX"
      },
      "source": [
        "imputer = IterativeImputer(\n",
        "    missing_values=np.nan,\n",
        "    sample_posterior=True,\n",
        "    n_nearest_features=5,\n",
        "    min_value=0,\n",
        "    max_value=100,\n",
        "    random_state=0\n",
        ")\n",
        "imputer.fit(data)\n",
        "data_imputed = np.around(imputer.transform(data))\n",
        "data = pd.DataFrame(data_imputed, columns=data.columns)"
      ],
      "execution_count": 41,
      "outputs": []
    },
    {
      "cell_type": "code",
      "metadata": {
        "id": "cTBHl7qJVFCX"
      },
      "source": [
        "data = data.astype({feature: datatype if all(data[feature].notna().values) else 'float32' if datatype == 'int16' else datatype for (feature, datatype) in relevant_features})"
      ],
      "execution_count": 42,
      "outputs": []
    },
    {
      "cell_type": "markdown",
      "metadata": {
        "id": "9AUOxA4OVFCX"
      },
      "source": [
        "### 5.2 Feature representation<a id=\"5.2\"></a>"
      ]
    },
    {
      "cell_type": "markdown",
      "metadata": {
        "id": "Yf6s5CTgVFCY"
      },
      "source": [
        "Encode nominal features using one-hot encoding"
      ]
    },
    {
      "cell_type": "code",
      "metadata": {
        "id": "hluSZbJoVFCY"
      },
      "source": [
        "features_nominal = data.dtypes[data.dtypes == 'category'].index.values\n",
        "data = pd.get_dummies(data, prefix=features_nominal)"
      ],
      "execution_count": 49,
      "outputs": []
    },
    {
      "cell_type": "markdown",
      "metadata": {
        "id": "GPcQdBTSVFCY"
      },
      "source": [
        "### 5.3 Feature interactions<a id=\"5.3\"></a>"
      ]
    },
    {
      "cell_type": "markdown",
      "metadata": {
        "id": "J8Pm09QhVFCY"
      },
      "source": [
        "Calculate the average attribute ratings for each subject"
      ]
    },
    {
      "cell_type": "code",
      "metadata": {
        "id": "TR2H29CpVFCY"
      },
      "source": [
        "subject_attractiveness_mean = data[['iid', 'attr_o']].groupby(['iid']).mean()['attr_o']\n",
        "subject_sincerity_mean = data[['iid', 'sinc_o']].groupby(['iid']).mean()['sinc_o']\n",
        "subject_intelligence_mean = data[['iid', 'intel_o']].groupby(['iid']).mean()['intel_o']\n",
        "subject_fun_mean = data[['iid', 'fun_o']].groupby(['iid']).mean()['fun_o']\n",
        "subject_ambition_mean = data[['iid', 'amb_o']].groupby(['iid']).mean()['amb_o']\n",
        "subject_shared_interest_mean = data[['iid', 'shar_o']].groupby(['iid']).mean()['shar_o']"
      ],
      "execution_count": 50,
      "outputs": []
    },
    {
      "cell_type": "markdown",
      "metadata": {
        "id": "PLF48_eDVFCY"
      },
      "source": [
        "Insert average attribute ratings into dataframe"
      ]
    },
    {
      "cell_type": "code",
      "metadata": {
        "id": "YZHYp2xNVFCY"
      },
      "source": [
        "data = data.merge(\n",
        "    right=subject_attractiveness_mean,\n",
        "    how='inner',\n",
        "    on='iid'\n",
        ").rename(columns={\n",
        "    'attr_o_x': 'attr_o',\n",
        "    'attr_o_y': 'subject_attractiveness_mean'\n",
        "})\n",
        "data = data.merge(\n",
        "    right=subject_sincerity_mean,\n",
        "    how='inner',\n",
        "    on='iid'\n",
        ").rename(columns={\n",
        "    'sinc_o_x': 'sinc_o',\n",
        "    'sinc_o_y': 'subject_sincerity_mean'\n",
        "})\n",
        "data = data.merge(\n",
        "    right=subject_intelligence_mean,\n",
        "    how='inner',\n",
        "    on='iid'\n",
        ").rename(columns={\n",
        "    'intel_o_x': 'intel_o',\n",
        "    'intel_o_y': 'subject_intelligence_mean'\n",
        "})\n",
        "data = data.merge(\n",
        "    right=subject_fun_mean,\n",
        "    how='inner',\n",
        "    on='iid'\n",
        ").rename(columns={\n",
        "    'fun_o_x': 'fun_o',\n",
        "    'fun_o_y': 'subject_fun_mean'\n",
        "})\n",
        "data = data.merge(\n",
        "    right=subject_ambition_mean,\n",
        "    how='inner',\n",
        "    on='iid'\n",
        ").rename(columns={\n",
        "    'amb_o_x': 'amb_o',\n",
        "    'amb_o_y': 'subject_ambition_mean'\n",
        "})\n",
        "data = data.merge(\n",
        "    right=subject_shared_interest_mean,\n",
        "    how='inner',\n",
        "    on='iid'\n",
        ").rename(columns={\n",
        "    'shar_o_x': 'shar_o',\n",
        "    'shar_o_y': 'subject_shared_interest_mean'\n",
        "})"
      ],
      "execution_count": 51,
      "outputs": []
    },
    {
      "cell_type": "markdown",
      "metadata": {
        "id": "IHSu-y1jVFCY"
      },
      "source": [
        "Calculate difference between subject and partner's ages"
      ]
    },
    {
      "cell_type": "code",
      "metadata": {
        "id": "9q8if4rGVFCZ"
      },
      "source": [
        "data['age_difference'] = abs(data['age'] - data['age_o'])"
      ],
      "execution_count": 52,
      "outputs": []
    },
    {
      "cell_type": "markdown",
      "metadata": {
        "id": "sRWczvhRVFCZ"
      },
      "source": [
        "Calculate difference between subject's attribute ratings and partner's attributes ratings"
      ]
    },
    {
      "cell_type": "code",
      "metadata": {
        "id": "qJ8qTv0zVFCZ"
      },
      "source": [
        "data['attractiveness_difference'] = abs(data['attr'] - data['attr_o'])\n",
        "data['sincerity_difference'] = abs(data['sinc'] - data['sinc_o'])\n",
        "data['intelligence_difference'] = abs(data['intel'] - data['intel_o'])\n",
        "data['fun_difference'] = abs(data['fun'] - data['fun_o'])\n",
        "data['ambition_difference'] = abs(data['amb'] - data['amb_o'])\n",
        "data['shared_interest_difference'] = abs(data['shar'] - data['shar_o'])"
      ],
      "execution_count": 53,
      "outputs": []
    },
    {
      "cell_type": "markdown",
      "metadata": {
        "id": "FdjCc-ksVFCZ"
      },
      "source": [
        "### 5.4 Feature transformations<a id=\"5.4\"></a>"
      ]
    },
    {
      "cell_type": "markdown",
      "metadata": {
        "id": "NRpnQErAVFCZ"
      },
      "source": [
        "Scale normal features to zero mean and unit variance"
      ]
    },
    {
      "cell_type": "code",
      "metadata": {
        "id": "Www9fPZrVFCZ"
      },
      "source": [
        "features_normal = [\n",
        "    'attr_o',\n",
        "    'sinc_o',\n",
        "    'intel_o',\n",
        "    'fun_o',\n",
        "    'amb_o',\n",
        "    'shar_o',\n",
        "    'age_difference',\n",
        "    'attractiveness_difference',\n",
        "    'sincerity_difference',\n",
        "    'intelligence_difference',\n",
        "    'fun_difference',\n",
        "    'ambition_difference',\n",
        "    'shared_interest_difference'\n",
        "]"
      ],
      "execution_count": 56,
      "outputs": []
    },
    {
      "cell_type": "code",
      "metadata": {
        "id": "r467ZA34VFCZ"
      },
      "source": [
        "data[features_normal] = data[features_normal].apply(lambda x: preprocessing.scale(x))"
      ],
      "execution_count": 57,
      "outputs": []
    },
    {
      "cell_type": "markdown",
      "metadata": {
        "id": "j3KldODVVFCa"
      },
      "source": [
        "### 5.5 Feature selection<a id=\"5.5\"></a>"
      ]
    },
    {
      "cell_type": "markdown",
      "metadata": {
        "id": "ah7Qh37HVFCa"
      },
      "source": [
        "Drop irrelevant features which contain no information about the target variable "
      ]
    },
    {
      "cell_type": "code",
      "metadata": {
        "id": "sNxkC3xWVFCa"
      },
      "source": [
        "features_no_information = [\n",
        "    'iid',\n",
        "    'pid',\n",
        "    'wave',\n",
        "    'position',\n",
        "    'order'\n",
        "]"
      ],
      "execution_count": 58,
      "outputs": []
    },
    {
      "cell_type": "markdown",
      "metadata": {
        "id": "3-mnBZL8VFCa"
      },
      "source": [
        "Drop features that are known in the future"
      ]
    },
    {
      "cell_type": "code",
      "metadata": {
        "id": "WTmz-ZhVVFCa"
      },
      "source": [
        "features_future_information = [\n",
        "    'dec',\n",
        "    'dec_o',\n",
        "    'like',\n",
        "    'prob',\n",
        "    'like_o',\n",
        "    'prob_o'\n",
        "]"
      ],
      "execution_count": 59,
      "outputs": []
    },
    {
      "cell_type": "markdown",
      "metadata": {
        "id": "rXo2TizAVFCa"
      },
      "source": [
        "Drop features that have low variance"
      ]
    },
    {
      "cell_type": "code",
      "metadata": {
        "id": "MHxsaq8qVFCa"
      },
      "source": [
        "feature_variances = data.std().sort_values(ascending=True)\n",
        "features_low_variance = feature_variances[feature_variances < 0.1].index.values.tolist()"
      ],
      "execution_count": 60,
      "outputs": []
    },
    {
      "cell_type": "markdown",
      "metadata": {
        "id": "ZrK4p3lLVFCa"
      },
      "source": [
        "Drop features that have weak correlation with target variable"
      ]
    },
    {
      "cell_type": "code",
      "metadata": {
        "id": "e0sn3Hr7VFCb"
      },
      "source": [
        "features_weak_correlation = partner_decision_correlations[partner_decision_correlations < 0.1].axes[0].to_list()\n",
        "features_weak_correlation = list(set(features_weak_correlation) - set(features_future_information) - set(features_no_information))"
      ],
      "execution_count": 61,
      "outputs": []
    },
    {
      "cell_type": "markdown",
      "metadata": {
        "id": "DcGoDF_SVFCb"
      },
      "source": [
        "Drop features that were used in interaction variables"
      ]
    },
    {
      "cell_type": "code",
      "metadata": {
        "id": "2S8anRuOVFCb"
      },
      "source": [
        "features_interaction = [\n",
        "    'age',\n",
        "    'age_o',\n",
        "]"
      ],
      "execution_count": 62,
      "outputs": []
    },
    {
      "cell_type": "code",
      "metadata": {
        "id": "OA2YT7efVFCb"
      },
      "source": [
        "features_remove = features_no_information+features_future_information+features_low_variance+features_weak_correlation+features_interaction\n",
        "data_model = data.drop(columns=features_remove)"
      ],
      "execution_count": 63,
      "outputs": []
    },
    {
      "cell_type": "markdown",
      "metadata": {
        "id": "aFomod-rVFCb"
      },
      "source": [
        "Get memory usage of model dataframe"
      ]
    },
    {
      "cell_type": "code",
      "metadata": {
        "colab": {
          "base_uri": "https://localhost:8080/"
        },
        "id": "IuKvGLFHVFCb",
        "outputId": "73fd0392-6a28-4528-a9f9-097d7f93315e"
      },
      "source": [
        "data_model.memory_usage().sum()"
      ],
      "execution_count": 64,
      "outputs": [
        {
          "output_type": "execute_result",
          "data": {
            "text/plain": [
              "2538534"
            ]
          },
          "metadata": {
            "tags": []
          },
          "execution_count": 64
        }
      ]
    },
    {
      "cell_type": "markdown",
      "metadata": {
        "id": "FgYDVRn2VFCb"
      },
      "source": [
        "### 5.6 Data export<a id=\"5.6\"></a>"
      ]
    },
    {
      "cell_type": "markdown",
      "metadata": {
        "id": "n00l6YjVVFCb"
      },
      "source": [
        "Persist dataframe containing features to be used in model"
      ]
    },
    {
      "cell_type": "code",
      "metadata": {
        "id": "BgbwN9AaVFCb"
      },
      "source": [
        "data_model.to_csv(\n",
        "    path_or_buf='./data_model.csv',\n",
        "    index=False\n",
        ")"
      ],
      "execution_count": 65,
      "outputs": []
    },
    {
      "cell_type": "markdown",
      "metadata": {
        "id": "tM61yVSJVFCc"
      },
      "source": [
        "## 6 Modelling<a id=\"6\"></a>"
      ]
    },
    {
      "cell_type": "markdown",
      "metadata": {
        "id": "tUv2Wae_VFCc"
      },
      "source": [
        "### 6.1 Baseline models<a id=\"6.1\"></a>"
      ]
    },
    {
      "cell_type": "markdown",
      "metadata": {
        "id": "l3MFkbPQVFCc"
      },
      "source": [
        "Define feature and target variables"
      ]
    },
    {
      "cell_type": "code",
      "metadata": {
        "id": "e-KVOOzCVFCc"
      },
      "source": [
        "features = data_model\n",
        "target = data['dec_o']"
      ],
      "execution_count": 66,
      "outputs": []
    },
    {
      "cell_type": "markdown",
      "metadata": {
        "id": "TOdPRPcaVFCc"
      },
      "source": [
        "Instantiate, train and tune a linear model"
      ]
    },
    {
      "cell_type": "code",
      "metadata": {
        "colab": {
          "base_uri": "https://localhost:8080/"
        },
        "id": "tQR15tqcVFCc",
        "outputId": "78eeff17-246f-45dd-8634-d18239df1922"
      },
      "source": [
        "parameters = {\n",
        "    'penalty': ['l2'],\n",
        "    'solver': ['lbfgs'],\n",
        "    'C': np.logspace(-4, 4, 20),\n",
        "    'max_iter': [10000]\n",
        "}\n",
        "classifier_lr = LogisticRegression(random_state=0)\n",
        "classifier_lr = GridSearchCV(\n",
        "    estimator=classifier_lr,\n",
        "    param_grid=parameters,\n",
        "    cv=5,\n",
        "    verbose=2,\n",
        "    n_jobs=-1\n",
        ")\n",
        "classifier_lr.fit(features, target)\n",
        "classifier_lr.best_params_"
      ],
      "execution_count": 67,
      "outputs": [
        {
          "output_type": "stream",
          "text": [
            "Fitting 5 folds for each of 20 candidates, totalling 100 fits\n"
          ],
          "name": "stdout"
        },
        {
          "output_type": "stream",
          "text": [
            "[Parallel(n_jobs=-1)]: Using backend LokyBackend with 2 concurrent workers.\n",
            "[Parallel(n_jobs=-1)]: Done  37 tasks      | elapsed:   21.7s\n",
            "[Parallel(n_jobs=-1)]: Done 100 out of 100 | elapsed:  3.7min finished\n"
          ],
          "name": "stderr"
        },
        {
          "output_type": "execute_result",
          "data": {
            "text/plain": [
              "{'C': 0.615848211066026, 'max_iter': 10000, 'penalty': 'l2', 'solver': 'lbfgs'}"
            ]
          },
          "metadata": {
            "tags": []
          },
          "execution_count": 67
        }
      ]
    },
    {
      "cell_type": "code",
      "metadata": {
        "id": "VEmKTgNVVFCc"
      },
      "source": [
        "classifier_lr = LogisticRegression(\n",
        "    random_state=0,\n",
        "    penalty=classifier_lr.best_params_['penalty'],\n",
        "    solver=classifier_lr.best_params_['solver'],\n",
        "    C=classifier_lr.best_params_['C'],\n",
        "    max_iter=classifier_lr.best_params_['max_iter']\n",
        ")"
      ],
      "execution_count": 68,
      "outputs": []
    },
    {
      "cell_type": "markdown",
      "metadata": {
        "id": "w8hmOFj5VFCc"
      },
      "source": [
        "Instantiate, train and tune a discriminative model"
      ]
    },
    {
      "cell_type": "code",
      "metadata": {
        "colab": {
          "base_uri": "https://localhost:8080/"
        },
        "id": "AMU456uPVFCd",
        "outputId": "596e6c26-135b-4e7e-ee46-035d65ca3a8c"
      },
      "source": [
        "parameters = {\n",
        "    'kernel': ['rbf'],\n",
        "    'gamma': [1e-4, 1e-3, 1e-2],\n",
        "    'C': [1, 10, 100, 1000]\n",
        "}\n",
        "classifier_sv = SVC(random_state=0)\n",
        "classifier_sv = GridSearchCV(\n",
        "    estimator=classifier_sv,\n",
        "    param_grid=parameters,\n",
        "    cv=5,\n",
        "    verbose=2,\n",
        "    n_jobs=-1\n",
        ")\n",
        "classifier_sv.fit(features, target)\n",
        "classifier_sv.best_params_"
      ],
      "execution_count": 69,
      "outputs": [
        {
          "output_type": "stream",
          "text": [
            "Fitting 5 folds for each of 12 candidates, totalling 60 fits\n"
          ],
          "name": "stdout"
        },
        {
          "output_type": "stream",
          "text": [
            "[Parallel(n_jobs=-1)]: Using backend LokyBackend with 2 concurrent workers.\n",
            "[Parallel(n_jobs=-1)]: Done  37 tasks      | elapsed:  3.1min\n",
            "[Parallel(n_jobs=-1)]: Done  60 out of  60 | elapsed:  6.8min finished\n"
          ],
          "name": "stderr"
        },
        {
          "output_type": "execute_result",
          "data": {
            "text/plain": [
              "{'C': 10, 'gamma': 0.0001, 'kernel': 'rbf'}"
            ]
          },
          "metadata": {
            "tags": []
          },
          "execution_count": 69
        }
      ]
    },
    {
      "cell_type": "code",
      "metadata": {
        "id": "STDK1v7gVFCd"
      },
      "source": [
        "classifier_sv = SVC(\n",
        "    random_state=0,\n",
        "    kernel=classifier_sv.best_params_['kernel'],\n",
        "    gamma=classifier_sv.best_params_['gamma'],\n",
        "    C=classifier_sv.best_params_['C']\n",
        ")"
      ],
      "execution_count": 70,
      "outputs": []
    },
    {
      "cell_type": "markdown",
      "metadata": {
        "id": "XdHgx8Z1VFCd"
      },
      "source": [
        "Instantiate, train and tune a instance-based model"
      ]
    },
    {
      "cell_type": "code",
      "metadata": {
        "colab": {
          "base_uri": "https://localhost:8080/"
        },
        "id": "5CxOxDL5VFCd",
        "outputId": "676b38cb-a551-465c-b50a-8f01b4b05b2c"
      },
      "source": [
        "parameters = {\n",
        "    'n_neighbors': [5,11,19,29],\n",
        "    'weights': ['uniform', 'distance'],\n",
        "    'metric': ['minkowski', 'euclidean', 'manhattan']\n",
        "}\n",
        "classifier_kn = KNeighborsClassifier()\n",
        "classifier_kn = GridSearchCV(\n",
        "    estimator=classifier_kn,\n",
        "    param_grid=parameters,\n",
        "    cv=5,\n",
        "    verbose=2,\n",
        "    n_jobs=-1\n",
        ")\n",
        "classifier_kn.fit(features, target)\n",
        "classifier_kn.best_params_"
      ],
      "execution_count": 71,
      "outputs": [
        {
          "output_type": "stream",
          "text": [
            "Fitting 5 folds for each of 24 candidates, totalling 120 fits\n"
          ],
          "name": "stdout"
        },
        {
          "output_type": "stream",
          "text": [
            "[Parallel(n_jobs=-1)]: Using backend LokyBackend with 2 concurrent workers.\n",
            "[Parallel(n_jobs=-1)]: Done  37 tasks      | elapsed:   42.9s\n",
            "[Parallel(n_jobs=-1)]: Done 120 out of 120 | elapsed:  2.6min finished\n"
          ],
          "name": "stderr"
        },
        {
          "output_type": "execute_result",
          "data": {
            "text/plain": [
              "{'metric': 'manhattan', 'n_neighbors': 29, 'weights': 'uniform'}"
            ]
          },
          "metadata": {
            "tags": []
          },
          "execution_count": 71
        }
      ]
    },
    {
      "cell_type": "code",
      "metadata": {
        "id": "T9BDZJBQVFCd"
      },
      "source": [
        "classifier_kn = KNeighborsClassifier(\n",
        "    n_neighbors=classifier_kn.best_params_['n_neighbors'],\n",
        "    weights=classifier_kn.best_params_['weights'],\n",
        "    metric=classifier_kn.best_params_['metric']\n",
        ")"
      ],
      "execution_count": 72,
      "outputs": []
    },
    {
      "cell_type": "markdown",
      "metadata": {
        "id": "WsMk6gfRVFCd"
      },
      "source": [
        "### 6.2 Ensemble models<a id=\"6.2\"></a>"
      ]
    },
    {
      "cell_type": "markdown",
      "metadata": {
        "id": "U5X27tVoVFCd"
      },
      "source": [
        "Instantiate, train and tune a boosting model"
      ]
    },
    {
      "cell_type": "code",
      "metadata": {
        "colab": {
          "base_uri": "https://localhost:8080/"
        },
        "id": "I-8MOD1ZVFCd",
        "outputId": "a8d2ecfa-354f-4e5e-d3c8-d6b3bda89162"
      },
      "source": [
        "parameters = {\n",
        "    'loss': ['deviance', 'exponential'],\n",
        "    'learning_rate': [0.05],\n",
        "    'n_estimators': [100, 200, 300],\n",
        "    'max_depth': [3, 4, 5],\n",
        "    'max_features': ['sqrt', 'log2']\n",
        "}\n",
        "classifier_gb = GradientBoostingClassifier(random_state=0)\n",
        "classifier_gb = GridSearchCV(\n",
        "    estimator=classifier_gb,\n",
        "    param_grid=parameters,\n",
        "    cv=5,\n",
        "    verbose=2,\n",
        "    n_jobs=-1\n",
        ")\n",
        "classifier_gb.fit(features, target)\n",
        "classifier_gb.best_params_"
      ],
      "execution_count": 73,
      "outputs": [
        {
          "output_type": "stream",
          "text": [
            "Fitting 5 folds for each of 36 candidates, totalling 180 fits\n"
          ],
          "name": "stdout"
        },
        {
          "output_type": "stream",
          "text": [
            "[Parallel(n_jobs=-1)]: Using backend LokyBackend with 2 concurrent workers.\n",
            "[Parallel(n_jobs=-1)]: Done  37 tasks      | elapsed:   29.3s\n",
            "[Parallel(n_jobs=-1)]: Done 158 tasks      | elapsed:  2.6min\n",
            "[Parallel(n_jobs=-1)]: Done 180 out of 180 | elapsed:  3.1min finished\n"
          ],
          "name": "stderr"
        },
        {
          "output_type": "execute_result",
          "data": {
            "text/plain": [
              "{'learning_rate': 0.05,\n",
              " 'loss': 'deviance',\n",
              " 'max_depth': 3,\n",
              " 'max_features': 'sqrt',\n",
              " 'n_estimators': 100}"
            ]
          },
          "metadata": {
            "tags": []
          },
          "execution_count": 73
        }
      ]
    },
    {
      "cell_type": "code",
      "metadata": {
        "id": "-uWoD0BCVFCe"
      },
      "source": [
        "classifier_gb = GradientBoostingClassifier(\n",
        "    random_state=0,\n",
        "    loss=classifier_gb.best_params_['loss'],\n",
        "    learning_rate=classifier_gb.best_params_['learning_rate'],\n",
        "    n_estimators=classifier_gb.best_params_['n_estimators'],\n",
        "    max_depth=classifier_gb.best_params_['max_depth'],\n",
        "    max_features=classifier_gb.best_params_['max_features']\n",
        ")"
      ],
      "execution_count": 74,
      "outputs": []
    },
    {
      "cell_type": "markdown",
      "metadata": {
        "id": "boGV_CUmVFCe"
      },
      "source": [
        "Instantiate and train a voting and stacking model"
      ]
    },
    {
      "cell_type": "code",
      "metadata": {
        "id": "uQ5qkwfCVFCe"
      },
      "source": [
        "estimators = [\n",
        "    ('lr', classifier_lr),\n",
        "    ('sv', classifier_sv),\n",
        "    ('kn', classifier_kn),\n",
        "    ('gb', classifier_gb)\n",
        "]"
      ],
      "execution_count": 75,
      "outputs": []
    },
    {
      "cell_type": "code",
      "metadata": {
        "id": "mgk6ZwlpVFCe"
      },
      "source": [
        "classifier_ve = VotingClassifier(\n",
        "    estimators=estimators,\n",
        "    voting='hard'\n",
        ")"
      ],
      "execution_count": 76,
      "outputs": []
    },
    {
      "cell_type": "code",
      "metadata": {
        "id": "U0NJJgmLVFCe"
      },
      "source": [
        "classifier_se = StackingClassifier(\n",
        "    estimators=estimators,\n",
        "    final_estimator=LogisticRegression()\n",
        ")"
      ],
      "execution_count": 77,
      "outputs": []
    },
    {
      "cell_type": "markdown",
      "metadata": {
        "id": "dcXyRKyiVFCe"
      },
      "source": [
        "## 7 Evaluation<a id=\"7\"></a>"
      ]
    },
    {
      "cell_type": "markdown",
      "metadata": {
        "id": "icWqo5ITVFCe"
      },
      "source": [
        "### 7.1 Classifier performance<a id=\"7.1\"></a>"
      ]
    },
    {
      "cell_type": "markdown",
      "metadata": {
        "id": "Fy8WTKFVVFCe"
      },
      "source": [
        "Calculate performance metrics for each model"
      ]
    },
    {
      "cell_type": "code",
      "metadata": {
        "colab": {
          "base_uri": "https://localhost:8080/"
        },
        "id": "GIMaVpLtVFCf",
        "outputId": "538b9ec9-d55f-4359-9f21-c82d603c3d9c"
      },
      "source": [
        "metrics = ['accuracy', 'precision', 'recall', 'f1_macro']\n",
        "\n",
        "for classifier, label in zip(\n",
        "    [classifier_lr, classifier_sv, classifier_kn, classifier_gb, classifier_ve, classifier_se],\n",
        "    ['Logistic Regression', 'Support Vector Machine', 'k-Nearest Neighbours', 'Gradient Boosting', 'Voting Ensemble', 'Stacking Ensemble']\n",
        "):\n",
        "    print('{}'.format(label))\n",
        "    scores = cross_validate(\n",
        "        estimator=classifier,\n",
        "        X=features,\n",
        "        y=target,\n",
        "        scoring=metrics,\n",
        "        cv=5,\n",
        "        n_jobs=-1\n",
        "    )\n",
        "    for key, value in scores.items():\n",
        "        print('{:14} {:.3f} +/- {:.3f}'.format(key, value.mean(), value.std()))\n",
        "    print('\\n')"
      ],
      "execution_count": null,
      "outputs": [
        {
          "output_type": "stream",
          "text": [
            "Logistic Regression\n",
            "fit_time       0.445 +/- 0.064\n",
            "score_time     0.013 +/- 0.004\n",
            "test_accuracy  0.757 +/- 0.006\n",
            "test_precision 0.715 +/- 0.019\n",
            "test_recall    0.722 +/- 0.035\n",
            "test_f1_macro  0.752 +/- 0.006\n",
            "\n",
            "\n",
            "Support Vector Machine\n",
            "fit_time       1.155 +/- 0.068\n",
            "score_time     0.243 +/- 0.019\n",
            "test_accuracy  0.753 +/- 0.006\n",
            "test_precision 0.714 +/- 0.017\n",
            "test_recall    0.707 +/- 0.038\n",
            "test_f1_macro  0.747 +/- 0.007\n",
            "\n",
            "\n",
            "k-Nearest Neighbours\n",
            "fit_time       0.051 +/- 0.007\n",
            "score_time     0.559 +/- 0.081\n",
            "test_accuracy  0.668 +/- 0.036\n",
            "test_precision 0.636 +/- 0.049\n",
            "test_recall    0.517 +/- 0.070\n",
            "test_f1_macro  0.649 +/- 0.041\n",
            "\n",
            "\n",
            "Gradient Boosting\n",
            "fit_time       1.357 +/- 0.209\n",
            "score_time     0.018 +/- 0.004\n",
            "test_accuracy  0.754 +/- 0.014\n",
            "test_precision 0.715 +/- 0.035\n",
            "test_recall    0.713 +/- 0.030\n",
            "test_f1_macro  0.749 +/- 0.012\n",
            "\n",
            "\n",
            "Voting Ensemble\n",
            "fit_time       2.959 +/- 0.351\n",
            "score_time     0.808 +/- 0.096\n",
            "test_accuracy  0.760 +/- 0.007\n",
            "test_precision 0.744 +/- 0.026\n",
            "test_recall    0.671 +/- 0.031\n",
            "test_f1_macro  0.751 +/- 0.006\n",
            "\n",
            "\n",
            "Stacking Ensemble\n",
            "fit_time       17.106 +/- 2.200\n",
            "score_time     0.772 +/- 0.095\n",
            "test_accuracy  0.757 +/- 0.006\n",
            "test_precision 0.721 +/- 0.018\n",
            "test_recall    0.706 +/- 0.031\n",
            "test_f1_macro  0.751 +/- 0.006\n",
            "\n",
            "\n"
          ],
          "name": "stdout"
        }
      ]
    },
    {
      "cell_type": "markdown",
      "metadata": {
        "id": "Sdskyzl0VFCf"
      },
      "source": [
        "### 7.2 Feature importance<a id=\"7.2\"></a>"
      ]
    },
    {
      "cell_type": "markdown",
      "metadata": {
        "id": "nQQ98ZYqVFCf"
      },
      "source": [
        "Get coefficients of features in linear model"
      ]
    },
    {
      "cell_type": "code",
      "metadata": {
        "id": "9E9DXGlJVFCf"
      },
      "source": [
        "labels = features.columns.values\n",
        "weights = classifier_lr.fit(features,target).coef_[0]"
      ],
      "execution_count": null,
      "outputs": []
    },
    {
      "cell_type": "markdown",
      "metadata": {
        "id": "8PIi5TNLVFCf"
      },
      "source": [
        "Get features with highest magnitude"
      ]
    },
    {
      "cell_type": "code",
      "metadata": {
        "id": "E2o7SZvdVFCf"
      },
      "source": [
        "top_features = sorted(list(zip(labels,weights)), reverse=True, key = lambda x: abs(x[1]))[0:10]\n",
        "top_labels = [x[0] for x in top_features]\n",
        "top_weights = [x[1] for x in top_features]"
      ],
      "execution_count": null,
      "outputs": []
    },
    {
      "cell_type": "markdown",
      "metadata": {
        "id": "3a561gMyVFCf"
      },
      "source": [
        "Plot features with highest magnitude"
      ]
    },
    {
      "cell_type": "code",
      "metadata": {
        "colab": {
          "base_uri": "https://localhost:8080/"
        },
        "id": "xoIiKnMMVFCf",
        "outputId": "d6dc025e-aaa3-40a5-85a5-9d7cc4c0d3ec"
      },
      "source": [
        "plt.figure(figsize=(10,8))\n",
        "plot_relationship(top_weights, top_labels, 'Most significant features in linear model', 'Weight', 'Feature')"
      ],
      "execution_count": null,
      "outputs": [
        {
          "output_type": "display_data",
          "data": {
            "image/png": "[encoded data removed]",
            "text/plain": [
              "<Figure size 720x576 with 1 Axes>"
            ]
          },
          "metadata": {
            "tags": [],
            "needs_background": "light"
          }
        }
      ]
    },
    {
      "cell_type": "markdown",
      "metadata": {
        "id": "oH9qBni_VFCg"
      },
      "source": [
        "## 8 Conclusion<a id=\"8\"></a>"
      ]
    },
    {
      "cell_type": "markdown",
      "metadata": {
        "id": "dVtfA8IFVFCg"
      },
      "source": [
        "- This notebook explored whether a machine learning model could predict if a partner will match with their date.\n",
        "- The best performing classifier was a stacking ensemble model with an accuracy of **~76%** and an F1 score of **~75%**.\n",
        "- Based on correlation analysis and weights in the linear model:\n",
        "  - **Attractiveness**, **shared interests** and being **fun** were the most significant factors in a partner's decision.\n",
        "  - **Medical students** had the highest probability of being matched while **psychologists** and **academics** had the lowest.\n",
        "- Further feature engineering such as introducing more interaction features and performing more thorough feature selection could improve the classifier performance."
      ]
    }
  ]
}
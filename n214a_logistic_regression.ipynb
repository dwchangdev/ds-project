{
  "nbformat": 4,
  "nbformat_minor": 0,
  "metadata": {
    "kernelspec": {
      "display_name": "Python 3",
      "language": "python",
      "name": "python3"
    },
    "language_info": {
      "codemirror_mode": {
        "name": "ipython",
        "version": 3
      },
      "file_extension": ".py",
      "mimetype": "text/x-python",
      "name": "python",
      "nbconvert_exporter": "python",
      "pygments_lexer": "ipython3",
      "version": "3.7.7"
    },
    "colab": {
      "name": "n214a_logistic_regression.ipynb",
      "provenance": [],
      "include_colab_link": true
    }
  },
  "cells": [
    {
      "cell_type": "markdown",
      "metadata": {
        "id": "view-in-github",
        "colab_type": "text"
      },
      "source": [
        "<a href=\"https://colab.research.google.com/github/dwchangdev/ds-project/blob/main/n214a_logistic_regression.ipynb\" target=\"_parent\"><img src=\"https://colab.research.google.com/assets/colab-badge.svg\" alt=\"Open In Colab\"/></a>"
      ]
    },
    {
      "cell_type": "markdown",
      "metadata": {
        "id": "lCZOiaDcNKZV"
      },
      "source": [
        "<img align=\"right\" src=\"https://ds-cs-images.s3.ap-northeast-2.amazonaws.com/Codestates_Fulllogo_Color.png\" width=100>\n",
        "\n",
        "## *DATA SCIENCE / SECTION 2 / SPRINT 1 / NOTE 4*\n",
        "\n",
        "# 📝 Assignment\n",
        "---"
      ]
    },
    {
      "cell_type": "markdown",
      "metadata": {
        "id": "7IXUfiQ2UKj6"
      },
      "source": [
        "# Logistic Regression\n",
        "\n",
        "이번에는 [**Cardiovascular Disease dataset**](https://www.kaggle.com/sulianova/cardiovascular-disease-dataset) 데이터셋을 사용해 봅시다. 데이터에 대한 설명을 캐글 페이지에서 잘 살펴보시고 과제를 진행해 주세요!"
      ]
    },
    {
      "cell_type": "markdown",
      "metadata": {
        "id": "JcEzvhDSNKZf"
      },
      "source": [
        "### 1) 데이터를 전처리 하겠습니다.\n",
        "- 데이터를 불러오세요.(read_csv 사용)\n",
        "- id 칼럼은 drop하세요.\n",
        "- missing value를 확인하세요.\n",
        "- 중복된 샘플이 있는지 확인하세요.\n",
        "- **중복된 샘플을 제거하고 남은 샘플의 수를 과제 제출폼에 제출하세요.**"
      ]
    },
    {
      "cell_type": "code",
      "metadata": {
        "id": "i0r9lzjJxQnV"
      },
      "source": [
        "# !pip install category_encoders"
      ],
      "execution_count": 16,
      "outputs": []
    },
    {
      "cell_type": "code",
      "metadata": {
        "id": "kCDe6xEANKZf"
      },
      "source": [
        "import pandas as pd\n",
        "df = pd.read_csv('https://ds-lecture-data.s3.ap-northeast-2.amazonaws.com/cardio/cardio_train.csv', sep=';')\n",
        "\n",
        "# id 컬럼 삭제\n",
        "df.drop(columns = ['id'], inplace = True)"
      ],
      "execution_count": 17,
      "outputs": []
    },
    {
      "cell_type": "code",
      "metadata": {
        "colab": {
          "base_uri": "https://localhost:8080/"
        },
        "id": "pyYQbID0wULt",
        "outputId": "2740e8b6-2e47-4bca-b56c-f955d05f400c"
      },
      "source": [
        "# 결측치 확인 -> 없음\n",
        "df.isna().value_counts()"
      ],
      "execution_count": 18,
      "outputs": [
        {
          "output_type": "execute_result",
          "data": {
            "text/plain": [
              "age    gender  height  weight  ap_hi  ap_lo  cholesterol  gluc   smoke  alco   active  cardio\n",
              "False  False   False   False   False  False  False        False  False  False  False   False     70000\n",
              "dtype: int64"
            ]
          },
          "metadata": {
            "tags": []
          },
          "execution_count": 18
        }
      ]
    },
    {
      "cell_type": "code",
      "metadata": {
        "colab": {
          "base_uri": "https://localhost:8080/"
        },
        "id": "NpQjAC3cwUIm",
        "outputId": "5a88ff43-7127-48d5-b9a4-968ac38024ca"
      },
      "source": [
        "# 중복된 샘플 확인\n",
        "print(df[df.duplicated()==True])"
      ],
      "execution_count": 19,
      "outputs": [
        {
          "output_type": "stream",
          "text": [
            "         age  gender  height  weight  ap_hi  ...  gluc  smoke  alco  active  cardio\n",
            "10562  20495       1     165    70.0    120  ...     1      0     0       1       0\n",
            "21784  16793       1     165    68.0    120  ...     1      0     0       1       0\n",
            "38505  18988       1     164    65.0    120  ...     1      0     0       1       0\n",
            "40365  14552       1     158    64.0    120  ...     1      0     0       1       0\n",
            "42450  18353       1     169    67.0    120  ...     1      0     0       1       0\n",
            "44653  16937       2     170    70.0    120  ...     1      0     0       0       0\n",
            "45125  21280       1     165    65.0    120  ...     1      0     0       1       0\n",
            "45748  22077       1     175    69.0    120  ...     1      0     0       1       1\n",
            "45810  21230       1     164    62.0    120  ...     1      0     0       1       0\n",
            "48917  21945       1     165    60.0    120  ...     1      0     0       1       0\n",
            "50432  17493       2     169    74.0    120  ...     1      0     0       1       1\n",
            "52552  21943       1     165    65.0    120  ...     1      0     0       1       1\n",
            "56643  17535       2     165    65.0    120  ...     1      0     0       1       0\n",
            "56906  20293       1     162    70.0    110  ...     1      0     0       1       0\n",
            "57946  18955       1     165    75.0    120  ...     1      0     0       1       1\n",
            "58730  19858       1     165    68.0    120  ...     1      0     0       1       0\n",
            "60453  20516       1     164    66.0    120  ...     1      0     0       0       0\n",
            "60474  16805       1     157    67.0    120  ...     1      0     0       1       0\n",
            "62318  18979       1     165    65.0    120  ...     1      0     0       0       0\n",
            "64169  16160       1     168    65.0    120  ...     1      0     0       1       1\n",
            "65079  18210       1     160    60.0    120  ...     1      0     0       1       0\n",
            "65622  21778       1     160    58.0    120  ...     1      0     0       1       0\n",
            "66190  19059       1     165    65.0    120  ...     1      0     0       1       1\n",
            "68281  21119       1     160    60.0    120  ...     1      0     0       0       1\n",
            "\n",
            "[24 rows x 12 columns]\n"
          ],
          "name": "stdout"
        }
      ]
    },
    {
      "cell_type": "code",
      "metadata": {
        "id": "VJrwgr1WwUFl"
      },
      "source": [
        "# 중복값 제거\n",
        "df.drop_duplicates(inplace = True)"
      ],
      "execution_count": 20,
      "outputs": []
    },
    {
      "cell_type": "code",
      "metadata": {
        "colab": {
          "base_uri": "https://localhost:8080/",
          "height": 415
        },
        "id": "gMeAsi-LwUAc",
        "outputId": "bb664cab-8abe-41b2-85be-29699f977da2"
      },
      "source": [
        "# 데이터 프레임 확인 -> 남은 샘플 개수 69,976개\n",
        "df"
      ],
      "execution_count": 21,
      "outputs": [
        {
          "output_type": "execute_result",
          "data": {
            "text/html": [
              "<div>\n",
              "<style scoped>\n",
              "    .dataframe tbody tr th:only-of-type {\n",
              "        vertical-align: middle;\n",
              "    }\n",
              "\n",
              "    .dataframe tbody tr th {\n",
              "        vertical-align: top;\n",
              "    }\n",
              "\n",
              "    .dataframe thead th {\n",
              "        text-align: right;\n",
              "    }\n",
              "</style>\n",
              "<table border=\"1\" class=\"dataframe\">\n",
              "  <thead>\n",
              "    <tr style=\"text-align: right;\">\n",
              "      <th></th>\n",
              "      <th>age</th>\n",
              "      <th>gender</th>\n",
              "      <th>height</th>\n",
              "      <th>weight</th>\n",
              "      <th>ap_hi</th>\n",
              "      <th>ap_lo</th>\n",
              "      <th>cholesterol</th>\n",
              "      <th>gluc</th>\n",
              "      <th>smoke</th>\n",
              "      <th>alco</th>\n",
              "      <th>active</th>\n",
              "      <th>cardio</th>\n",
              "    </tr>\n",
              "  </thead>\n",
              "  <tbody>\n",
              "    <tr>\n",
              "      <th>0</th>\n",
              "      <td>18393</td>\n",
              "      <td>2</td>\n",
              "      <td>168</td>\n",
              "      <td>62.0</td>\n",
              "      <td>110</td>\n",
              "      <td>80</td>\n",
              "      <td>1</td>\n",
              "      <td>1</td>\n",
              "      <td>0</td>\n",
              "      <td>0</td>\n",
              "      <td>1</td>\n",
              "      <td>0</td>\n",
              "    </tr>\n",
              "    <tr>\n",
              "      <th>1</th>\n",
              "      <td>20228</td>\n",
              "      <td>1</td>\n",
              "      <td>156</td>\n",
              "      <td>85.0</td>\n",
              "      <td>140</td>\n",
              "      <td>90</td>\n",
              "      <td>3</td>\n",
              "      <td>1</td>\n",
              "      <td>0</td>\n",
              "      <td>0</td>\n",
              "      <td>1</td>\n",
              "      <td>1</td>\n",
              "    </tr>\n",
              "    <tr>\n",
              "      <th>2</th>\n",
              "      <td>18857</td>\n",
              "      <td>1</td>\n",
              "      <td>165</td>\n",
              "      <td>64.0</td>\n",
              "      <td>130</td>\n",
              "      <td>70</td>\n",
              "      <td>3</td>\n",
              "      <td>1</td>\n",
              "      <td>0</td>\n",
              "      <td>0</td>\n",
              "      <td>0</td>\n",
              "      <td>1</td>\n",
              "    </tr>\n",
              "    <tr>\n",
              "      <th>3</th>\n",
              "      <td>17623</td>\n",
              "      <td>2</td>\n",
              "      <td>169</td>\n",
              "      <td>82.0</td>\n",
              "      <td>150</td>\n",
              "      <td>100</td>\n",
              "      <td>1</td>\n",
              "      <td>1</td>\n",
              "      <td>0</td>\n",
              "      <td>0</td>\n",
              "      <td>1</td>\n",
              "      <td>1</td>\n",
              "    </tr>\n",
              "    <tr>\n",
              "      <th>4</th>\n",
              "      <td>17474</td>\n",
              "      <td>1</td>\n",
              "      <td>156</td>\n",
              "      <td>56.0</td>\n",
              "      <td>100</td>\n",
              "      <td>60</td>\n",
              "      <td>1</td>\n",
              "      <td>1</td>\n",
              "      <td>0</td>\n",
              "      <td>0</td>\n",
              "      <td>0</td>\n",
              "      <td>0</td>\n",
              "    </tr>\n",
              "    <tr>\n",
              "      <th>...</th>\n",
              "      <td>...</td>\n",
              "      <td>...</td>\n",
              "      <td>...</td>\n",
              "      <td>...</td>\n",
              "      <td>...</td>\n",
              "      <td>...</td>\n",
              "      <td>...</td>\n",
              "      <td>...</td>\n",
              "      <td>...</td>\n",
              "      <td>...</td>\n",
              "      <td>...</td>\n",
              "      <td>...</td>\n",
              "    </tr>\n",
              "    <tr>\n",
              "      <th>69995</th>\n",
              "      <td>19240</td>\n",
              "      <td>2</td>\n",
              "      <td>168</td>\n",
              "      <td>76.0</td>\n",
              "      <td>120</td>\n",
              "      <td>80</td>\n",
              "      <td>1</td>\n",
              "      <td>1</td>\n",
              "      <td>1</td>\n",
              "      <td>0</td>\n",
              "      <td>1</td>\n",
              "      <td>0</td>\n",
              "    </tr>\n",
              "    <tr>\n",
              "      <th>69996</th>\n",
              "      <td>22601</td>\n",
              "      <td>1</td>\n",
              "      <td>158</td>\n",
              "      <td>126.0</td>\n",
              "      <td>140</td>\n",
              "      <td>90</td>\n",
              "      <td>2</td>\n",
              "      <td>2</td>\n",
              "      <td>0</td>\n",
              "      <td>0</td>\n",
              "      <td>1</td>\n",
              "      <td>1</td>\n",
              "    </tr>\n",
              "    <tr>\n",
              "      <th>69997</th>\n",
              "      <td>19066</td>\n",
              "      <td>2</td>\n",
              "      <td>183</td>\n",
              "      <td>105.0</td>\n",
              "      <td>180</td>\n",
              "      <td>90</td>\n",
              "      <td>3</td>\n",
              "      <td>1</td>\n",
              "      <td>0</td>\n",
              "      <td>1</td>\n",
              "      <td>0</td>\n",
              "      <td>1</td>\n",
              "    </tr>\n",
              "    <tr>\n",
              "      <th>69998</th>\n",
              "      <td>22431</td>\n",
              "      <td>1</td>\n",
              "      <td>163</td>\n",
              "      <td>72.0</td>\n",
              "      <td>135</td>\n",
              "      <td>80</td>\n",
              "      <td>1</td>\n",
              "      <td>2</td>\n",
              "      <td>0</td>\n",
              "      <td>0</td>\n",
              "      <td>0</td>\n",
              "      <td>1</td>\n",
              "    </tr>\n",
              "    <tr>\n",
              "      <th>69999</th>\n",
              "      <td>20540</td>\n",
              "      <td>1</td>\n",
              "      <td>170</td>\n",
              "      <td>72.0</td>\n",
              "      <td>120</td>\n",
              "      <td>80</td>\n",
              "      <td>2</td>\n",
              "      <td>1</td>\n",
              "      <td>0</td>\n",
              "      <td>0</td>\n",
              "      <td>1</td>\n",
              "      <td>0</td>\n",
              "    </tr>\n",
              "  </tbody>\n",
              "</table>\n",
              "<p>69976 rows × 12 columns</p>\n",
              "</div>"
            ],
            "text/plain": [
              "         age  gender  height  weight  ap_hi  ...  gluc  smoke  alco  active  cardio\n",
              "0      18393       2     168    62.0    110  ...     1      0     0       1       0\n",
              "1      20228       1     156    85.0    140  ...     1      0     0       1       1\n",
              "2      18857       1     165    64.0    130  ...     1      0     0       0       1\n",
              "3      17623       2     169    82.0    150  ...     1      0     0       1       1\n",
              "4      17474       1     156    56.0    100  ...     1      0     0       0       0\n",
              "...      ...     ...     ...     ...    ...  ...   ...    ...   ...     ...     ...\n",
              "69995  19240       2     168    76.0    120  ...     1      1     0       1       0\n",
              "69996  22601       1     158   126.0    140  ...     2      0     0       1       1\n",
              "69997  19066       2     183   105.0    180  ...     1      0     1       0       1\n",
              "69998  22431       1     163    72.0    135  ...     2      0     0       0       1\n",
              "69999  20540       1     170    72.0    120  ...     1      0     0       1       0\n",
              "\n",
              "[69976 rows x 12 columns]"
            ]
          },
          "metadata": {
            "tags": []
          },
          "execution_count": 21
        }
      ]
    },
    {
      "cell_type": "markdown",
      "metadata": {
        "id": "NePFfIB9NKZg"
      },
      "source": [
        "### 2) 다운로드 한 훈련 데이터를 훈련/검증/테스트 세트로 나누어 주세요.\n",
        "- 타겟 특성을 확인하고 타겟 변수를 나누어 줍니다.\n",
        "- 훈련과 테스트 데이터로 나누어 줍니다(train_test_split 사용, train/test = 80/20, random_state=2)\n",
        "- 훈련데이터를 훈련과 검증데이터로 나누어 줍니다(train_test_split 사용, train/validation = 80/20, random_state=2)\n",
        "- **검증 데이터(X_val)의 갯수를 과제 제출폼에 제출하세요.**"
      ]
    },
    {
      "cell_type": "code",
      "metadata": {
        "colab": {
          "base_uri": "https://localhost:8080/",
          "height": 407
        },
        "id": "_X-BZPoENKZg",
        "outputId": "7f4587aa-c25a-4dbf-b20b-3114c101ab4c"
      },
      "source": [
        "from sklearn.model_selection import train_test_split\n",
        "\n",
        "features = df.drop(columns = ['cardio'])\n",
        "target = df['cardio']\n",
        "\n",
        "X_train, X_test, y_train, y_test = train_test_split(features, target, test_size = 0.2, train_size = 0.8, random_state = 2)\n",
        "\n",
        "X_train, X_val, y_train, y_val = train_test_split(X_train, y_train, test_size = 0.2, train_size = 0.8, random_state = 2)\n",
        "\n",
        "X_val"
      ],
      "execution_count": 22,
      "outputs": [
        {
          "output_type": "execute_result",
          "data": {
            "text/html": [
              "<div>\n",
              "<style scoped>\n",
              "    .dataframe tbody tr th:only-of-type {\n",
              "        vertical-align: middle;\n",
              "    }\n",
              "\n",
              "    .dataframe tbody tr th {\n",
              "        vertical-align: top;\n",
              "    }\n",
              "\n",
              "    .dataframe thead th {\n",
              "        text-align: right;\n",
              "    }\n",
              "</style>\n",
              "<table border=\"1\" class=\"dataframe\">\n",
              "  <thead>\n",
              "    <tr style=\"text-align: right;\">\n",
              "      <th></th>\n",
              "      <th>age</th>\n",
              "      <th>gender</th>\n",
              "      <th>height</th>\n",
              "      <th>weight</th>\n",
              "      <th>ap_hi</th>\n",
              "      <th>ap_lo</th>\n",
              "      <th>cholesterol</th>\n",
              "      <th>gluc</th>\n",
              "      <th>smoke</th>\n",
              "      <th>alco</th>\n",
              "      <th>active</th>\n",
              "    </tr>\n",
              "  </thead>\n",
              "  <tbody>\n",
              "    <tr>\n",
              "      <th>36174</th>\n",
              "      <td>20787</td>\n",
              "      <td>1</td>\n",
              "      <td>168</td>\n",
              "      <td>67.0</td>\n",
              "      <td>120</td>\n",
              "      <td>80</td>\n",
              "      <td>3</td>\n",
              "      <td>3</td>\n",
              "      <td>0</td>\n",
              "      <td>0</td>\n",
              "      <td>1</td>\n",
              "    </tr>\n",
              "    <tr>\n",
              "      <th>4101</th>\n",
              "      <td>20578</td>\n",
              "      <td>2</td>\n",
              "      <td>176</td>\n",
              "      <td>80.0</td>\n",
              "      <td>160</td>\n",
              "      <td>80</td>\n",
              "      <td>1</td>\n",
              "      <td>1</td>\n",
              "      <td>1</td>\n",
              "      <td>1</td>\n",
              "      <td>1</td>\n",
              "    </tr>\n",
              "    <tr>\n",
              "      <th>19924</th>\n",
              "      <td>18368</td>\n",
              "      <td>2</td>\n",
              "      <td>174</td>\n",
              "      <td>78.0</td>\n",
              "      <td>120</td>\n",
              "      <td>80</td>\n",
              "      <td>2</td>\n",
              "      <td>1</td>\n",
              "      <td>0</td>\n",
              "      <td>0</td>\n",
              "      <td>1</td>\n",
              "    </tr>\n",
              "    <tr>\n",
              "      <th>41995</th>\n",
              "      <td>17415</td>\n",
              "      <td>2</td>\n",
              "      <td>177</td>\n",
              "      <td>62.0</td>\n",
              "      <td>120</td>\n",
              "      <td>80</td>\n",
              "      <td>1</td>\n",
              "      <td>1</td>\n",
              "      <td>1</td>\n",
              "      <td>0</td>\n",
              "      <td>1</td>\n",
              "    </tr>\n",
              "    <tr>\n",
              "      <th>39939</th>\n",
              "      <td>23303</td>\n",
              "      <td>2</td>\n",
              "      <td>168</td>\n",
              "      <td>98.0</td>\n",
              "      <td>140</td>\n",
              "      <td>90</td>\n",
              "      <td>3</td>\n",
              "      <td>3</td>\n",
              "      <td>1</td>\n",
              "      <td>0</td>\n",
              "      <td>1</td>\n",
              "    </tr>\n",
              "    <tr>\n",
              "      <th>...</th>\n",
              "      <td>...</td>\n",
              "      <td>...</td>\n",
              "      <td>...</td>\n",
              "      <td>...</td>\n",
              "      <td>...</td>\n",
              "      <td>...</td>\n",
              "      <td>...</td>\n",
              "      <td>...</td>\n",
              "      <td>...</td>\n",
              "      <td>...</td>\n",
              "      <td>...</td>\n",
              "    </tr>\n",
              "    <tr>\n",
              "      <th>67206</th>\n",
              "      <td>16823</td>\n",
              "      <td>1</td>\n",
              "      <td>155</td>\n",
              "      <td>63.0</td>\n",
              "      <td>120</td>\n",
              "      <td>80</td>\n",
              "      <td>1</td>\n",
              "      <td>1</td>\n",
              "      <td>0</td>\n",
              "      <td>0</td>\n",
              "      <td>0</td>\n",
              "    </tr>\n",
              "    <tr>\n",
              "      <th>25036</th>\n",
              "      <td>22517</td>\n",
              "      <td>1</td>\n",
              "      <td>141</td>\n",
              "      <td>60.0</td>\n",
              "      <td>150</td>\n",
              "      <td>100</td>\n",
              "      <td>3</td>\n",
              "      <td>3</td>\n",
              "      <td>0</td>\n",
              "      <td>0</td>\n",
              "      <td>0</td>\n",
              "    </tr>\n",
              "    <tr>\n",
              "      <th>12153</th>\n",
              "      <td>15245</td>\n",
              "      <td>2</td>\n",
              "      <td>165</td>\n",
              "      <td>64.0</td>\n",
              "      <td>120</td>\n",
              "      <td>80</td>\n",
              "      <td>1</td>\n",
              "      <td>1</td>\n",
              "      <td>0</td>\n",
              "      <td>0</td>\n",
              "      <td>1</td>\n",
              "    </tr>\n",
              "    <tr>\n",
              "      <th>25375</th>\n",
              "      <td>18260</td>\n",
              "      <td>2</td>\n",
              "      <td>170</td>\n",
              "      <td>70.0</td>\n",
              "      <td>120</td>\n",
              "      <td>80</td>\n",
              "      <td>3</td>\n",
              "      <td>3</td>\n",
              "      <td>0</td>\n",
              "      <td>0</td>\n",
              "      <td>1</td>\n",
              "    </tr>\n",
              "    <tr>\n",
              "      <th>65039</th>\n",
              "      <td>21954</td>\n",
              "      <td>1</td>\n",
              "      <td>159</td>\n",
              "      <td>65.0</td>\n",
              "      <td>120</td>\n",
              "      <td>80</td>\n",
              "      <td>1</td>\n",
              "      <td>1</td>\n",
              "      <td>0</td>\n",
              "      <td>0</td>\n",
              "      <td>0</td>\n",
              "    </tr>\n",
              "  </tbody>\n",
              "</table>\n",
              "<p>11196 rows × 11 columns</p>\n",
              "</div>"
            ],
            "text/plain": [
              "         age  gender  height  weight  ...  gluc  smoke  alco  active\n",
              "36174  20787       1     168    67.0  ...     3      0     0       1\n",
              "4101   20578       2     176    80.0  ...     1      1     1       1\n",
              "19924  18368       2     174    78.0  ...     1      0     0       1\n",
              "41995  17415       2     177    62.0  ...     1      1     0       1\n",
              "39939  23303       2     168    98.0  ...     3      1     0       1\n",
              "...      ...     ...     ...     ...  ...   ...    ...   ...     ...\n",
              "67206  16823       1     155    63.0  ...     1      0     0       0\n",
              "25036  22517       1     141    60.0  ...     3      0     0       0\n",
              "12153  15245       2     165    64.0  ...     1      0     0       1\n",
              "25375  18260       2     170    70.0  ...     3      0     0       1\n",
              "65039  21954       1     159    65.0  ...     1      0     0       0\n",
              "\n",
              "[11196 rows x 11 columns]"
            ]
          },
          "metadata": {
            "tags": []
          },
          "execution_count": 22
        }
      ]
    },
    {
      "cell_type": "markdown",
      "metadata": {
        "id": "N0N3qYfTNKZg"
      },
      "source": [
        "### 3) 사이킷런의 LogisticRegression을 사용해 모델을 만들어 보세요.\n",
        "- 모델을 만들기 전에 기준모델을 설정합니다.\n",
        "- **LogisticRegression 모델을 학습하고(max_iter=1000) 검증세트 정확도를 과제 제출폼에 제출하세요.**\n"
      ]
    },
    {
      "cell_type": "code",
      "metadata": {
        "colab": {
          "base_uri": "https://localhost:8080/"
        },
        "id": "D4af-wP1NKZg",
        "outputId": "df1e3822-ea86-4f8f-d3e3-619db3c53f14"
      },
      "source": [
        "from sklearn.metrics import accuracy_score\n",
        "from sklearn.linear_model import LogisticRegression\n",
        "\n",
        "# 분류문제에서는 보통 타겟 변수에서 가장 빈번하게 나타나는 범주를 기준모델로 설정합니다.\n",
        "major = y_train.mode()[0]\n",
        "\n",
        "y_pred = [major] * len(y_train)\n",
        "\n",
        "print(\"training accuracy: \", accuracy_score(y_train, y_pred))\n",
        "\n",
        "y_pred = [major] * len(y_val)\n",
        "print(\"validation accuracy: \", accuracy_score(y_val, y_pred))"
      ],
      "execution_count": 23,
      "outputs": [
        {
          "output_type": "stream",
          "text": [
            "training accuracy:  0.501697034655234\n",
            "validation accuracy:  0.49821364773133264\n"
          ],
          "name": "stdout"
        }
      ]
    },
    {
      "cell_type": "code",
      "metadata": {
        "colab": {
          "base_uri": "https://localhost:8080/"
        },
        "id": "EZPCkr6e3P99",
        "outputId": "f0da1ee1-93ec-46e3-85e4-6c2f39beb6da"
      },
      "source": [
        "logistic = LogisticRegression(max_iter = 1000)\n",
        "logistic.fit(X_train, y_train)\n",
        "\n",
        "print(\"검증세트 정확도 :\", logistic.score(X_val, y_val))"
      ],
      "execution_count": 24,
      "outputs": [
        {
          "output_type": "stream",
          "text": [
            "검증세트 정확도 : 0.7073061807788495\n"
          ],
          "name": "stdout"
        }
      ]
    },
    {
      "cell_type": "markdown",
      "metadata": {
        "id": "6FaHZcRJNKZh"
      },
      "source": [
        "### 4) 데이터에서 범주형 성질을 지닌 특성을 찾아 원핫인코딩 하세요.\n",
        "- category_encoders를 사용해서 'gender' 특성만 원핫인코딩 하세요.\n",
        "- LogisticRegression 모델을 다시 학습합니다.\n",
        "- **검증세트 정확도를 과제 제출폼에 제출하세요.**"
      ]
    },
    {
      "cell_type": "code",
      "metadata": {
        "id": "igHwfGbLNKZh",
        "colab": {
          "base_uri": "https://localhost:8080/"
        },
        "outputId": "82f2cd94-66bd-494f-912b-87e1cdd74486"
      },
      "source": [
        "# 원핫인코딩\n",
        "from category_encoders import OneHotEncoder\n",
        "\n",
        "# 인코딩 객체 생성, gender 컬럼만 인코딩\n",
        "encoder = OneHotEncoder(use_cat_names=True, cols=\"gender\")\n",
        "\n",
        "# 훈련용 데이터 fit_transform\n",
        "X_train_encoded = encoder.fit_transform(X_train)\n",
        "\n",
        "# 검증용 데이터 : transform\n",
        "X_val_encoded = encoder.transform(X_val)"
      ],
      "execution_count": 25,
      "outputs": [
        {
          "output_type": "stream",
          "text": [
            "/usr/local/lib/python3.7/dist-packages/category_encoders/utils.py:21: FutureWarning: is_categorical is deprecated and will be removed in a future version.  Use is_categorical_dtype instead\n",
            "  elif pd.api.types.is_categorical(cols):\n"
          ],
          "name": "stderr"
        }
      ]
    },
    {
      "cell_type": "code",
      "metadata": {
        "colab": {
          "base_uri": "https://localhost:8080/"
        },
        "id": "w6RkZcltv5ZQ",
        "outputId": "1a385d13-d183-4bc2-840c-5ba76656bd09"
      },
      "source": [
        "# 로지스틱 회귀모델 생성 및 훈련\n",
        "# 객체 생성\n",
        "logistic = LogisticRegression(max_iter=1000)\n",
        "\n",
        "# 모델 훈련 : 인코딩 완료한 데이터 사용 (X_train_encoded)\n",
        "logistic.fit(X_train_encoded, y_train)\n",
        "\n",
        "# 검증세트의 정확도 측정 : X_val_encoded, y_val사용, score 속성 사용\n",
        "print('검증세트 정확도', logistic.score(X_val_encoded, y_val))"
      ],
      "execution_count": 26,
      "outputs": [
        {
          "output_type": "stream",
          "text": [
            "검증세트 정확도 0.6944444444444444\n"
          ],
          "name": "stdout"
        }
      ]
    },
    {
      "cell_type": "markdown",
      "metadata": {
        "id": "qA8tMbNxNKZh"
      },
      "source": [
        "### 5) 학습한 모델을 검증세트에서 최적화 시킨 후, 테스트세트에서 딱 한 번 정확도를 확인해 보세요.\n",
        "- **테스트 세트 정확도를 과제 제출폼에 제출하세요.(0.712 이상)**"
      ]
    },
    {
      "cell_type": "code",
      "metadata": {
        "id": "ERQinxntNKZh",
        "colab": {
          "base_uri": "https://localhost:8080/"
        },
        "outputId": "f1dc6429-c1e0-4802-b693-4fc031401ba5"
      },
      "source": [
        "# 테스트 데이터 features와 target 분리\n",
        "y_test = target\n",
        "X_test = features\n",
        "\n",
        "# 확인\n",
        "print(\"테스트용 데이터 확인 / features: {0}, target{1}\".format(X_test.shape, y_test.shape))"
      ],
      "execution_count": 27,
      "outputs": [
        {
          "output_type": "stream",
          "text": [
            "테스트용 데이터 확인 / features: (69976, 11), target(69976,)\n"
          ],
          "name": "stdout"
        }
      ]
    },
    {
      "cell_type": "code",
      "metadata": {
        "colab": {
          "base_uri": "https://localhost:8080/"
        },
        "id": "e8DN765Dv_ba",
        "outputId": "08aa357c-bb0f-4739-ea00-f13225ae093e"
      },
      "source": [
        "# 1) 하이퍼파라미터(C) 조정\n",
        "# 객체 생성 & 모델 훈련\n",
        "logistic_001 = LogisticRegression(C=0.01, max_iter=1000).fit(X_train_encoded, y_train)\n",
        "logistic_01 = LogisticRegression(C=0.1, max_iter=1000).fit(X_train_encoded, y_train)\n",
        "logistic = LogisticRegression(max_iter=1000).fit(X_train_encoded, y_train)\n",
        "logistic_1 = LogisticRegression(C=1, max_iter=1000).fit(X_train_encoded, y_train)\n",
        "logistic_10 = LogisticRegression(C=10, max_iter=1000).fit(X_train_encoded, y_train)\n",
        "\n",
        "\n",
        "# 검증 데이터셋으로 정확도 측정\n",
        "print('C=0.01 정확도', logistic_001.score(X_val_encoded, y_val))\n",
        "print('C=0.1 정확도', logistic_01.score(X_val_encoded, y_val))\n",
        "print('C=default 정확도', logistic.score(X_val_encoded, y_val))\n",
        "print('C=1 정확도', logistic_1.score(X_val_encoded, y_val))\n",
        "print('C=10 정확도', logistic_10.score(X_val_encoded, y_val))"
      ],
      "execution_count": 28,
      "outputs": [
        {
          "output_type": "stream",
          "text": [
            "C=0.01 정확도 0.6942658092175777\n",
            "C=0.1 정확도 0.7094498035012504\n",
            "C=default 정확도 0.6944444444444444\n",
            "C=1 정확도 0.6944444444444444\n",
            "C=10 정확도 0.7093604858878171\n"
          ],
          "name": "stdout"
        }
      ]
    },
    {
      "cell_type": "code",
      "metadata": {
        "colab": {
          "base_uri": "https://localhost:8080/"
        },
        "id": "14uUVTEuwGj3",
        "outputId": "70fc842f-7c25-4c7a-b094-4af8d859d209"
      },
      "source": [
        "# 2) 표준화\n",
        "from sklearn.preprocessing import StandardScaler\n",
        "scaler = StandardScaler()\n",
        "X_train_scaled = scaler.fit_transform(X_train_encoded)\n",
        "X_val_scaled = scaler.transform(X_val_encoded)\n",
        "\n",
        "# 객체 생성 & 모델 훈련\n",
        "logistic_001_scaled = LogisticRegression(C=0.01, max_iter=1000).fit(X_train_scaled, y_train)\n",
        "logistic_01_scaled = LogisticRegression(C=0.1, max_iter=1000).fit(X_train_scaled, y_train)\n",
        "logistic_scaled = LogisticRegression(max_iter=1000).fit(X_train_scaled, y_train)\n",
        "logistic_1_scaled = LogisticRegression(C=1, max_iter=1000).fit(X_train_scaled, y_train)\n",
        "logistic_10_scaled = LogisticRegression(C=10, max_iter=1000).fit(X_train_scaled, y_train)\n",
        "\n",
        "# 검증 데이터셋으로 정확도 측정\n",
        "print('C=0.01 정확도', logistic_001_scaled.score(X_val_scaled, y_val))\n",
        "print('C=0.1 정확도', logistic_01_scaled.score(X_val_scaled, y_val))\n",
        "print('C=default 정확도', logistic_scaled.score(X_val_scaled, y_val))\n",
        "print('C=1 정확도', logistic_1_scaled.score(X_val_scaled, y_val))\n",
        "print('C=10 정확도', logistic_10_scaled.score(X_val_scaled, y_val))"
      ],
      "execution_count": 29,
      "outputs": [
        {
          "output_type": "stream",
          "text": [
            "C=0.01 정확도 0.7057877813504824\n",
            "C=0.1 정확도 0.721686316541622\n",
            "C=default 정확도 0.723383351196856\n",
            "C=1 정확도 0.723383351196856\n",
            "C=10 정확도 0.7237406216505895\n"
          ],
          "name": "stdout"
        }
      ]
    },
    {
      "cell_type": "code",
      "metadata": {
        "colab": {
          "base_uri": "https://localhost:8080/"
        },
        "id": "jzszLvBfwHLv",
        "outputId": "7395796c-2ae3-4737-c1ac-b8aca3315750"
      },
      "source": [
        "# 데이터 표준화 작업이 모델 최적화에 더욱 효과적인 것 같다.\n",
        "# 테스트 데이터도 똑같이 표준화 후 모델 학습을 진행해 본다.\n",
        "\n",
        "# test데이터의 gender 원핫인코딩\n",
        "X_test_encoded = encoder.transform(X_test)\n",
        "\n",
        "# test데이터 표준화\n",
        "X_test_scaled = scaler.transform(X_test_encoded)\n",
        "\n",
        "# test데이터를 가지고 예측 (1회) -> 정확도 UP\n",
        "print('테스트 세트 정확도', logistic_scaled.score(X_test_scaled, y_test))"
      ],
      "execution_count": 30,
      "outputs": [
        {
          "output_type": "stream",
          "text": [
            "테스트 세트 정확도 0.7223619526694867\n"
          ],
          "name": "stdout"
        }
      ]
    },
    {
      "cell_type": "markdown",
      "metadata": {
        "id": "x8qTug3ENKZh"
      },
      "source": [
        "## 🔥 도전과제:"
      ]
    },
    {
      "cell_type": "markdown",
      "metadata": {
        "id": "gdpjZ5KONKZi"
      },
      "source": [
        "### 6) EDA를 추가적으로 수행하고 가능한 방법으로 모델을 튜닝해서 결과를 만들어 보세요. 최소한 다음 내용들이 포함이 되어야 합니다.\n",
        "- 새로운 특성을 최소한 한 개 이상 만드세요.\n",
        "- 특성들을 확인해서 아웃라이어라고 생각되는 데이터를 가진 샘플을 제거하세요.\n",
        "- [feature scaling](https://scikit-learn.org/stable/modules/preprocessing.html) 을 사용하세요. (여러가지 종류의 Scalar를 어떤 상황에 적용해야 하는지 알아보고 사용해 보세요.)\n",
        "- 만들어진 모델 성능을 리포팅하고 해석합니다.\n"
      ]
    }
  ]
}